{
 "cells": [
  {
   "cell_type": "markdown",
   "id": "5395875b",
   "metadata": {},
   "source": [
    "# Count trial algorithm and correct rate in individual users and tier groups\n",
    "\n",
    "#### Key feature\n",
    "- Generates counts for trial algorithm and correct rate in individual users and tier groups"
   ]
  },
  {
   "cell_type": "markdown",
   "id": "7fea41be",
   "metadata": {},
   "source": [
    "### Configurations"
   ]
  },
  {
   "cell_type": "code",
   "execution_count": 1,
   "id": "41332ada",
   "metadata": {},
   "outputs": [],
   "source": [
    "import logging\n",
    "\n",
    "logging.basicConfig(format='%(asctime)s %(levelname)s %(message)s',\n",
    "\n",
    "    datefmt='%Y-%m-%d,%H:%M:%S:%f', level=logging.INFO)"
   ]
  },
  {
   "cell_type": "code",
   "execution_count": 2,
   "id": "36cafeea",
   "metadata": {},
   "outputs": [
    {
     "name": "stderr",
     "output_type": "stream",
     "text": [
      "2022-06-10,00:45:52:%f INFO Application Start!!\n"
     ]
    }
   ],
   "source": [
    "logging.info('Application Start!!')"
   ]
  },
  {
   "cell_type": "markdown",
   "id": "9450070c",
   "metadata": {},
   "source": [
    "### Get trials"
   ]
  },
  {
   "cell_type": "code",
   "execution_count": 3,
   "id": "4d4ff8dd",
   "metadata": {},
   "outputs": [],
   "source": [
    "import findspark\n",
    "findspark.init()"
   ]
  },
  {
   "cell_type": "code",
   "execution_count": 4,
   "id": "84a4c613",
   "metadata": {
    "scrolled": true
   },
   "outputs": [],
   "source": [
    "from pyspark import SparkConf, SparkContext, SQLContext\n",
    "\n",
    "conf = SparkConf().setMaster(\"yarn\").setAppName(\"bigdata-group1-top-algo\")\n",
    "sc = SparkContext.getOrCreate(conf = conf)\n",
    "sqlContext = SQLContext(sc)\n"
   ]
  },
  {
   "cell_type": "code",
   "execution_count": 5,
   "id": "93124faa",
   "metadata": {},
   "outputs": [],
   "source": [
    "trial_df = sqlContext.read.format(\"csv\").option(\"encoding\", \"UTF-8\").option(\"header\",\"true\").load(\"data/trials.csv\")"
   ]
  },
  {
   "cell_type": "code",
   "execution_count": 6,
   "id": "cd5d15fd",
   "metadata": {},
   "outputs": [],
   "source": [
    "trial_df = trial_df.na.drop(subset=[\"type\"])"
   ]
  },
  {
   "cell_type": "code",
   "execution_count": 7,
   "id": "6b914481",
   "metadata": {},
   "outputs": [
    {
     "name": "stdout",
     "output_type": "stream",
     "text": [
      "root\n",
      " |-- user: string (nullable = true)\n",
      " |-- user_rank: string (nullable = true)\n",
      " |-- questionId: string (nullable = true)\n",
      " |-- title: string (nullable = true)\n",
      " |-- difficulty: string (nullable = true)\n",
      " |-- type: string (nullable = true)\n",
      " |-- result: string (nullable = true)\n",
      " |-- memory: string (nullable = true)\n",
      " |-- time: string (nullable = true)\n",
      " |-- language: string (nullable = true)\n",
      " |-- volume: string (nullable = true)\n",
      " |-- date: string (nullable = true)\n",
      "\n"
     ]
    }
   ],
   "source": [
    "trial_df.printSchema()"
   ]
  },
  {
   "cell_type": "code",
   "execution_count": 15,
   "id": "3e423135",
   "metadata": {},
   "outputs": [],
   "source": [
    "from pyspark.sql import functions as F\n",
    "from pyspark.sql.types import ArrayType, StringType\n",
    "trial_split_df = trial_df.withColumn(\"type\", F.split(F.col(\"type\"), '/'))\n",
    "\n",
    "def cut_tail(array):\n",
    "    return array[:-1]\n",
    "cut_tail_udf = F.udf(cut_tail, ArrayType(StringType()))\n",
    "trial_typelist_df = trial_split_df.withColumn(\"type\", cut_tail_udf(\"type\"))"
   ]
  },
  {
   "cell_type": "code",
   "execution_count": 21,
   "id": "e9430130",
   "metadata": {},
   "outputs": [],
   "source": [
    "correct_keyword = [\"맞았습니다\"]\n",
    "wrong_keyword = [\"초과\", \"틀렸습니다\"]\n",
    "error_keyword = [\"런타임\", \"컴파일\", \"출력\"]\n",
    "def categorize(x):\n",
    "    for keyword in correct_keyword:\n",
    "        if keyword in x:\n",
    "            return \"맞았습니다\"\n",
    "    for keyword in wrong_keyword:\n",
    "        if keyword in x:\n",
    "            return \"틀렸습니다\"\n",
    "    for keyword in error_keyword:\n",
    "        if keyword in x:\n",
    "            return \"에러\"\n",
    "    return \"기타\"\n",
    "\n",
    "categorize_udf = F.udf(categorize, StringType())\n",
    "categorized_df = trial_typelist_df.withColumn(\"result\", categorize_udf(F.col(\"result\")))"
   ]
  },
  {
   "cell_type": "code",
   "execution_count": 25,
   "id": "37350ce2",
   "metadata": {},
   "outputs": [],
   "source": [
    "cor_wro_df = categorized_df.withColumn(\"type\", F.explode(\"type\")).filter((F.col(\"result\") == \"맞았습니다\") | (F.col(\"result\") == \"틀렸습니다\"))"
   ]
  },
  {
   "cell_type": "code",
   "execution_count": 49,
   "id": "3f692e84",
   "metadata": {},
   "outputs": [
    {
     "data": {
      "text/plain": [
       "DataFrame[user: string, user_rank: string, type: string, result: string, count: bigint]"
      ]
     },
     "execution_count": 49,
     "metadata": {},
     "output_type": "execute_result"
    }
   ],
   "source": [
    "user_trial_df =  cor_wro_df.groupBy('user','user_rank', \"type\", \"result\").count()\n",
    "user_trial_df.persist()"
   ]
  },
  {
   "cell_type": "code",
   "execution_count": 56,
   "id": "9fb36c0f",
   "metadata": {},
   "outputs": [],
   "source": [
    "user_stat_df = user_trial_df.groupBy('user','user_rank' , 'type') \\\n",
    ".agg(F.sum(\"count\").alias(\"submit\"), \\\n",
    "     F.sum(F.when(F.col(\"result\") == \"맞았습니다\", F.col(\"count\"))).alias(\"correct\"), \\\n",
    "     F.sum(F.when(F.col(\"result\") == \"틀렸습니다\", F.col(\"count\"))).alias(\"wrong\") \\\n",
    "    ).na.fill(0) \\\n",
    "   .withColumn(\"rate\", F.col(\"correct\") / F.col(\"submit\")) \\\n",
    "   .sort(\"user\", F.col(\"rate\").desc())"
   ]
  },
  {
   "cell_type": "code",
   "execution_count": 57,
   "id": "9b555be9",
   "metadata": {},
   "outputs": [],
   "source": [
    "user_stat_df.write.format(\"csv\").mode('overwrite') \\\n",
    "    .option(\"encoding\", \"UTF-8\").save(\"static/stat_correct/algo_correct_stat_user\")"
   ]
  },
  {
   "cell_type": "code",
   "execution_count": 51,
   "id": "e1352556",
   "metadata": {},
   "outputs": [
    {
     "data": {
      "text/plain": [
       "DataFrame[user_rank: string, type: string, result: string, count: bigint]"
      ]
     },
     "execution_count": 51,
     "metadata": {},
     "output_type": "execute_result"
    }
   ],
   "source": [
    "group_trial_df =  cor_wro_df.groupBy('user_rank', \"type\", \"result\").count()\n",
    "group_trial_df.persist()"
   ]
  },
  {
   "cell_type": "code",
   "execution_count": 59,
   "id": "988bc91d",
   "metadata": {},
   "outputs": [],
   "source": [
    "group_stat_df = group_trial_df.groupBy('user_rank' , 'type') \\\n",
    ".agg(F.sum(\"count\").alias(\"submit\"), \\\n",
    "     F.sum(F.when(F.col(\"result\") == \"맞았습니다\", F.col(\"count\"))).alias(\"correct\"), \\\n",
    "     F.sum(F.when(F.col(\"result\") == \"틀렸습니다\", F.col(\"count\"))).alias(\"wrong\") \\\n",
    "    ).na.fill(0) \\\n",
    "   .withColumn(\"rate\", F.col(\"correct\") / F.col(\"submit\")) \\\n",
    "   .sort(\"user_rank\", F.col(\"rate\").desc())"
   ]
  },
  {
   "cell_type": "code",
   "execution_count": 60,
   "id": "0a645ccf",
   "metadata": {},
   "outputs": [],
   "source": [
    "group_stat_df.write.format(\"csv\").mode('overwrite') \\\n",
    "    .option(\"encoding\", \"UTF-8\").save(\"static/stat_correct/algo_correct_stat_rankgroup\")"
   ]
  },
  {
   "cell_type": "code",
   "execution_count": 15,
   "id": "ce77af8d",
   "metadata": {},
   "outputs": [],
   "source": [
    "sc.stop()"
   ]
  }
 ],
 "metadata": {
  "kernelspec": {
   "display_name": "Python 3",
   "language": "python",
   "name": "python3"
  },
  "language_info": {
   "codemirror_mode": {
    "name": "ipython",
    "version": 3
   },
   "file_extension": ".py",
   "mimetype": "text/x-python",
   "name": "python",
   "nbconvert_exporter": "python",
   "pygments_lexer": "ipython3",
   "version": "3.6.9"
  }
 },
 "nbformat": 4,
 "nbformat_minor": 5
}
