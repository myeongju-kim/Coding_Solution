{
 "cells": [
  {
   "cell_type": "markdown",
   "id": "5395875b",
   "metadata": {},
   "source": [
    "# Predict acceptance to each enterprise\n",
    "\n",
    "#### Key feature\n",
    "- Correlation analysis between algo types & feature selection\n",
    "- Dimensionality Reduction using Truncated Singlular Value Decomposition (SVD) (to 2D)\n",
    "- Normalize feature to Bivariate Normal Distribution & Visualize\n",
    "- Build Linear Model for acceptance prediction\n",
    "- Calculate the Probability that each user will be accepted to each company & Save"
   ]
  },
  {
   "cell_type": "markdown",
   "id": "7fea41be",
   "metadata": {},
   "source": [
    "### Configurations"
   ]
  },
  {
   "cell_type": "code",
   "execution_count": 1,
   "id": "41332ada",
   "metadata": {},
   "outputs": [],
   "source": [
    "import logging\n",
    "\n",
    "logging.basicConfig(format='%(asctime)s %(levelname)s %(message)s',\n",
    "\n",
    "    datefmt='%Y-%m-%d,%H:%M:%S:%f', level=logging.INFO)"
   ]
  },
  {
   "cell_type": "code",
   "execution_count": 2,
   "id": "36cafeea",
   "metadata": {},
   "outputs": [
    {
     "name": "stderr",
     "output_type": "stream",
     "text": [
      "2022-06-11,16:13:32:%f INFO Application Start!!\n"
     ]
    }
   ],
   "source": [
    "logging.info('Application Start!!')"
   ]
  },
  {
   "cell_type": "markdown",
   "id": "9450070c",
   "metadata": {},
   "source": [
    "### Get stat company"
   ]
  },
  {
   "cell_type": "code",
   "execution_count": 3,
   "id": "4d4ff8dd",
   "metadata": {},
   "outputs": [],
   "source": [
    "import findspark\n",
    "findspark.init()"
   ]
  },
  {
   "cell_type": "code",
   "execution_count": 4,
   "id": "84a4c613",
   "metadata": {
    "scrolled": true
   },
   "outputs": [],
   "source": [
    "from pyspark import SparkConf, SparkContext, SQLContext\n",
    "\n",
    "conf = SparkConf().setMaster(\"yarn\").setAppName(\"bigdata-group1-predict-acceptance\")\n",
    "sc = SparkContext.getOrCreate(conf = conf)\n",
    "sqlContext = SQLContext(sc)\n"
   ]
  },
  {
   "cell_type": "code",
   "execution_count": 5,
   "id": "832a1150",
   "metadata": {},
   "outputs": [],
   "source": [
    "from pyspark.sql.types import *\n",
    "from pyspark.sql import functions as F\n",
    "company_schema = StructType([\n",
    "    StructField(\"company\", StringType()),\n",
    "    StructField(\"type\", StringType()),\n",
    "    StructField(\"count\", IntegerType()),\n",
    "    StructField(\"avg_of_difficulty\", FloatType())\n",
    "])"
   ]
  },
  {
   "cell_type": "code",
   "execution_count": 6,
   "id": "93124faa",
   "metadata": {},
   "outputs": [],
   "source": [
    "company_df = sqlContext.read.format(\"csv\").option(\"encoding\", \"UTF-8\").schema(company_schema).load(\"static/stat_enterprise/stat_each_enterprise\")"
   ]
  },
  {
   "cell_type": "markdown",
   "id": "e5d04bfd",
   "metadata": {},
   "source": [
    "### Get stat user"
   ]
  },
  {
   "cell_type": "code",
   "execution_count": 7,
   "id": "8a8b3908",
   "metadata": {},
   "outputs": [],
   "source": [
    "user_schema = StructType([\n",
    "    StructField(\"user\", StringType()),\n",
    "    StructField(\"user_rank\", StringType()),\n",
    "    StructField(\"type\", StringType()),\n",
    "    StructField(\"total_submit\", IntegerType()),\n",
    "    StructField(\"correct\", IntegerType()),\n",
    "    StructField(\"wrong\", IntegerType()),\n",
    "    StructField(\"correct_rate\", FloatType())\n",
    "])"
   ]
  },
  {
   "cell_type": "code",
   "execution_count": 8,
   "id": "ee6e99ad",
   "metadata": {
    "scrolled": true
   },
   "outputs": [
    {
     "name": "stdout",
     "output_type": "stream",
     "text": [
      "+-----------+---------+-------------------+------------+-------+-----+------------+\n",
      "|       user|user_rank|               type|total_submit|correct|wrong|correct_rate|\n",
      "+-----------+---------+-------------------+------------+-------+-----+------------+\n",
      "|sonsh011106|   실버 2|다이나믹 프로그래밍|          49|     19|   30|   0.3877551|\n",
      "|sonsh011106|   실버 2|          두 포인터|          11|      4|    7|  0.36363637|\n",
      "|sonsh011106|   실버 2|               재귀|           3|      1|    2|  0.33333334|\n",
      "|sonsh011106|   실버 2|        그래프 탐색|           2|      0|    2|         0.0|\n",
      "|sonsh011106|   실버 2|        그래프 이론|           2|      0|    2|         0.0|\n",
      "|    sonsh04|   UNRANK|               구현|          12|     10|    2|   0.8333333|\n",
      "|    sonsh04|   UNRANK|           사칙연산|           9|      7|    2|   0.7777778|\n",
      "|    sonsh04|   UNRANK|               수학|           9|      7|    2|   0.7777778|\n",
      "|  sonsh5364|   실버 3|         시뮬레이션|           1|      1|    0|         1.0|\n",
      "|  sonsh5364|   실버 3|        그래프 탐색|           2|      2|    0|         1.0|\n",
      "|  sonsh5364|   실버 3|브루트포스 알고리즘|           3|      3|    0|         1.0|\n",
      "|  sonsh5364|   실버 3|           사칙연산|           2|      2|    0|         1.0|\n",
      "|  sonsh5364|   실버 3|               파싱|           1|      1|    0|         1.0|\n",
      "|  sonsh5364|   실버 3|        그래프 이론|           2|      2|    0|         1.0|\n",
      "|  sonsh5364|   실버 3|     너비 우선 탐색|           2|      2|    0|         1.0|\n",
      "|  sonsh5364|   실버 3|다이나믹 프로그래밍|           1|      1|    0|         1.0|\n",
      "|  sonsh5364|   실버 3|        우선순위 큐|           1|      1|    0|         1.0|\n",
      "|  sonsh5364|   실버 3|               구현|           8|      7|    1|       0.875|\n",
      "|  sonsh5364|   실버 3|          자료 구조|           7|      5|    2|  0.71428573|\n",
      "|  sonsh5364|   실버 3|               스택|           6|      4|    2|   0.6666667|\n",
      "+-----------+---------+-------------------+------------+-------+-----+------------+\n",
      "only showing top 20 rows\n",
      "\n"
     ]
    }
   ],
   "source": [
    "user_df = sqlContext.read.format(\"csv\").option(\"encoding\", \"UTF-8\").schema(user_schema).load(\"static/stat_correct/algo_correct_stat_user\")\n",
    "user_df.show()"
   ]
  },
  {
   "cell_type": "markdown",
   "id": "04bdcaf7",
   "metadata": {},
   "source": [
    "### Get stat problem"
   ]
  },
  {
   "cell_type": "code",
   "execution_count": 37,
   "id": "b5dc195d",
   "metadata": {},
   "outputs": [],
   "source": [
    "problem_schema = StructType([\n",
    "    StructField(\"type\", StringType()),\n",
    "    StructField(\"count\", IntegerType()),\n",
    "    StructField(\"avg_of_difficulty\", FloatType())\n",
    "])"
   ]
  },
  {
   "cell_type": "code",
   "execution_count": 39,
   "id": "fc0da62d",
   "metadata": {},
   "outputs": [
    {
     "name": "stdout",
     "output_type": "stream",
     "text": [
      "+-------------------------------------+-----+-----------------+\n",
      "|                                 type|count|avg_of_difficulty|\n",
      "+-------------------------------------+-----+-----------------+\n",
      "|                              애드 혹|  527|        16.702087|\n",
      "|       트리에서의 다이나믹 프로그래밍|  238|          19.7479|\n",
      "|              트리를 사용한 집합과 맵|  261|        15.735632|\n",
      "|                     모듈로 곱셈 역원|   31|        17.129032|\n",
      "|                             키타마사|    7|        23.571428|\n",
      "|                       안정 결혼 문제|    5|             20.2|\n",
      "|                        크누스 최적화|    7|        20.857143|\n",
      "|비트필드를 이용한 다이나믹 프로그래밍|  185|        18.610811|\n",
      "|                            분할 정복|  284|        20.112677|\n",
      "|                             수치해석|   14|        21.142857|\n",
      "|                               문자열| 1569|         9.866795|\n",
      "|                  최소 비용 최대 유량|   72|        21.430555|\n",
      "|                      센트로이드 분할|   47|         23.51064|\n",
      "|                            현 그래프|    2|             24.5|\n",
      "|                       최소 공통 조상|  118|        19.686441|\n",
      "|                            게임 이론|  178|         17.27528|\n",
      "|      덱을 이용한 다이나믹 프로그래밍|   17|        20.235294|\n",
      "|                               선인장|   35|        22.285715|\n",
      "|        느리게 갱신되는 세그먼트 트리|  189|        21.873016|\n",
      "|                       병렬 이분 탐색|   22|         22.09091|\n",
      "+-------------------------------------+-----+-----------------+\n",
      "only showing top 20 rows\n",
      "\n"
     ]
    }
   ],
   "source": [
    "problem_df = sqlContext.read.format(\"csv\").option(\"encoding\", \"UTF-8\").schema(problem_schema).load(\"static/problem/problem_avg_difficulty\")\n",
    "problem_df.show()"
   ]
  },
  {
   "cell_type": "markdown",
   "id": "f8af1b01",
   "metadata": {},
   "source": [
    "# Preprocessing for EDA"
   ]
  },
  {
   "cell_type": "code",
   "execution_count": 9,
   "id": "cd5d15fd",
   "metadata": {},
   "outputs": [
    {
     "name": "stdout",
     "output_type": "stream",
     "text": [
      "+-------+-----+\n",
      "|company|count|\n",
      "+-------+-----+\n",
      "|coupang|   44|\n",
      "|  naver|   48|\n",
      "|  kakao|   27|\n",
      "|samsung|   18|\n",
      "|   line|   56|\n",
      "+-------+-----+\n",
      "\n"
     ]
    }
   ],
   "source": [
    "company_df.groupBy(\"company\").count().show()"
   ]
  },
  {
   "cell_type": "code",
   "execution_count": 389,
   "id": "4cfb2ae4",
   "metadata": {},
   "outputs": [],
   "source": [
    "company_name_rows = company_df.groupBy(\"company\").count().select(\"company\").collect()\n",
    "companys = list(map(lambda x: x[0], company_name_rows))"
   ]
  },
  {
   "cell_type": "code",
   "execution_count": 390,
   "id": "3d3718b4",
   "metadata": {},
   "outputs": [],
   "source": [
    "company_stat = []"
   ]
  },
  {
   "cell_type": "code",
   "execution_count": 379,
   "id": "e0312984",
   "metadata": {},
   "outputs": [],
   "source": [
    "company_df.filter(F.col(\"company\") == \"line\").sort(F.col(\"count\").desc()).head(10)"
   ]
  },
  {
   "cell_type": "code",
   "execution_count": 11,
   "id": "10964f38",
   "metadata": {},
   "outputs": [
    {
     "data": {
      "text/plain": [
       "[Row(company='kakao', type='구현', count=16, avg_of_difficulty=10.1875),\n",
       " Row(company='kakao', type='문자열', count=12, avg_of_difficulty=10.333333015441895),\n",
       " Row(company='kakao', type='브루트포스', count=9, avg_of_difficulty=11.55555534362793),\n",
       " Row(company='kakao', type='그래프 이론', count=8, avg_of_difficulty=12.875),\n",
       " Row(company='kakao', type='너비 우선 탐색', count=5, avg_of_difficulty=14.0),\n",
       " Row(company='kakao', type='깊이 우선 탐색', count=5, avg_of_difficulty=14.199999809265137),\n",
       " Row(company='kakao', type='다이나믹 프로그래밍', count=5, avg_of_difficulty=15.800000190734863),\n",
       " Row(company='kakao', type='해시', count=4, avg_of_difficulty=13.0),\n",
       " Row(company='kakao', type='자료구조', count=4, avg_of_difficulty=13.25),\n",
       " Row(company='kakao', type='다익스트라', count=3, avg_of_difficulty=14.666666984558105)]"
      ]
     },
     "execution_count": 11,
     "metadata": {},
     "output_type": "execute_result"
    }
   ],
   "source": [
    "company_df.filter(F.col(\"company\") == \"kakao\").sort(F.col(\"count\").desc()).head(10)"
   ]
  },
  {
   "cell_type": "code",
   "execution_count": 12,
   "id": "1b58049a",
   "metadata": {},
   "outputs": [
    {
     "data": {
      "text/plain": [
       "[Row(company='naver', type='구현', count=23, avg_of_difficulty=9.34782600402832),\n",
       " Row(company='naver', type='자료 구조', count=16, avg_of_difficulty=13.1875),\n",
       " Row(company='naver', type='문자열', count=15, avg_of_difficulty=8.533333778381348),\n",
       " Row(company='naver', type='브루트포스 알고리즘', count=11, avg_of_difficulty=11.909090995788574),\n",
       " Row(company='naver', type='수학', count=11, avg_of_difficulty=10.181818008422852),\n",
       " Row(company='naver', type='백트래킹', count=8, avg_of_difficulty=12.0),\n",
       " Row(company='naver', type='그래프 탐색', count=7, avg_of_difficulty=12.0),\n",
       " Row(company='naver', type='정렬', count=7, avg_of_difficulty=11.428571701049805),\n",
       " Row(company='naver', type='두 포인터', count=7, avg_of_difficulty=11.0),\n",
       " Row(company='naver', type='그래프 이론', count=7, avg_of_difficulty=12.0)]"
      ]
     },
     "execution_count": 12,
     "metadata": {},
     "output_type": "execute_result"
    }
   ],
   "source": [
    "company_df.filter(F.col(\"company\") == \"naver\").sort(F.col(\"count\").desc()).head(10)"
   ]
  },
  {
   "cell_type": "code",
   "execution_count": 13,
   "id": "999cd10e",
   "metadata": {},
   "outputs": [
    {
     "data": {
      "text/plain": [
       "[Row(company='samsung', type='구현', count=45, avg_of_difficulty=12.422222137451172),\n",
       " Row(company='samsung', type='시뮬레이션', count=36, avg_of_difficulty=12.777777671813965),\n",
       " Row(company='samsung', type='브루트포스 알고리즘', count=19, avg_of_difficulty=11.0),\n",
       " Row(company='samsung', type='그래프 이론', count=13, avg_of_difficulty=12.461538314819336),\n",
       " Row(company='samsung', type='너비 우선 탐색', count=11, avg_of_difficulty=12.363636016845703),\n",
       " Row(company='samsung', type='그래프 탐색', count=11, avg_of_difficulty=12.363636016845703),\n",
       " Row(company='samsung', type='백트래킹', count=8, avg_of_difficulty=10.875),\n",
       " Row(company='samsung', type='깊이 우선 탐색', count=5, avg_of_difficulty=12.199999809265137),\n",
       " Row(company='samsung', type='다이나믹 프로그래밍', count=2, avg_of_difficulty=11.0),\n",
       " Row(company='samsung', type='자료 구조', count=2, avg_of_difficulty=13.0)]"
      ]
     },
     "execution_count": 13,
     "metadata": {},
     "output_type": "execute_result"
    }
   ],
   "source": [
    "company_df.filter(F.col(\"company\") == \"samsung\").sort(F.col(\"count\").desc()).head(10)"
   ]
  },
  {
   "cell_type": "code",
   "execution_count": 14,
   "id": "7f591a39",
   "metadata": {},
   "outputs": [
    {
     "data": {
      "text/plain": [
       "[Row(company='coupang', type='문자열', count=22, avg_of_difficulty=10.363636016845703),\n",
       " Row(company='coupang', type='구현', count=20, avg_of_difficulty=10.699999809265137),\n",
       " Row(company='coupang', type='자료 구조', count=12, avg_of_difficulty=12.25),\n",
       " Row(company='coupang', type='수학', count=11, avg_of_difficulty=13.0),\n",
       " Row(company='coupang', type='그래프 탐색', count=10, avg_of_difficulty=15.699999809265137),\n",
       " Row(company='coupang', type='그래프 이론', count=10, avg_of_difficulty=15.699999809265137),\n",
       " Row(company='coupang', type='깊이 우선 탐색', count=8, avg_of_difficulty=15.25),\n",
       " Row(company='coupang', type='해시를 사용한 집합과 맵', count=7, avg_of_difficulty=9.428571701049805),\n",
       " Row(company='coupang', type='파싱', count=7, avg_of_difficulty=12.714285850524902),\n",
       " Row(company='coupang', type='브루트포스 알고리즘', count=7, avg_of_difficulty=11.571428298950195)]"
      ]
     },
     "execution_count": 14,
     "metadata": {},
     "output_type": "execute_result"
    }
   ],
   "source": [
    "company_df.filter(F.col(\"company\") == \"coupang\").sort(F.col(\"count\").desc()).head(10)"
   ]
  },
  {
   "cell_type": "code",
   "execution_count": 391,
   "id": "cc6237cf",
   "metadata": {},
   "outputs": [],
   "source": [
    "for company in companys:\n",
    "    top5_rows = company_df.filter(F.col(\"company\") == company).sort(F.col(\"count\").desc()).head(5)\n",
    "    company_stat.append({\"company\": company, \"top1\": top5_rows[0][1], \"top2\": top5_rows[1][1], \"top3\": top5_rows[2][1], \"top4\": top5_rows[3][1], \"top5\": top5_rows[4][1]})"
   ]
  },
  {
   "cell_type": "code",
   "execution_count": 394,
   "id": "2ef40942",
   "metadata": {},
   "outputs": [
    {
     "name": "stdout",
     "output_type": "stream",
     "text": [
      "+-------+------+-------------------+-------------------+-------------------+--------------+\n",
      "|company|  top1|               top2|               top3|               top4|          top5|\n",
      "+-------+------+-------------------+-------------------+-------------------+--------------+\n",
      "|coupang|문자열|               구현|          자료 구조|               수학|   그래프 탐색|\n",
      "|  naver|  구현|          자료 구조|             문자열|브루트포스 알고리즘|          수학|\n",
      "|  kakao|  구현|             문자열|         브루트포스|        그래프 이론|너비 우선 탐색|\n",
      "|samsung|  구현|         시뮬레이션|브루트포스 알고리즘|        그래프 이론|   그래프 탐색|\n",
      "|   line|  구현|브루트포스 알고리즘|             문자열|          자료 구조|          수학|\n",
      "+-------+------+-------------------+-------------------+-------------------+--------------+\n",
      "\n"
     ]
    }
   ],
   "source": [
    "company_stat_df = sqlContext.createDataFrame(company_stat)\n",
    "company_stat_df.show()"
   ]
  },
  {
   "cell_type": "code",
   "execution_count": 397,
   "id": "818241d6",
   "metadata": {},
   "outputs": [
    {
     "name": "stdout",
     "output_type": "stream",
     "text": [
      "+-------+------+-------------------+-------------------+-------------------+--------------+\n",
      "|company|  top1|               top2|               top3|               top4|          top5|\n",
      "+-------+------+-------------------+-------------------+-------------------+--------------+\n",
      "|coupang|문자열|               구현|          자료 구조|               수학|   그래프 탐색|\n",
      "|  naver|  구현|          자료 구조|             문자열|브루트포스 알고리즘|          수학|\n",
      "|  kakao|  구현|             문자열|브루트포스 알고리즘|        그래프 이론|너비 우선 탐색|\n",
      "|samsung|  구현|         시뮬레이션|브루트포스 알고리즘|        그래프 이론|   그래프 탐색|\n",
      "|   line|  구현|브루트포스 알고리즘|             문자열|          자료 구조|          수학|\n",
      "+-------+------+-------------------+-------------------+-------------------+--------------+\n",
      "\n"
     ]
    }
   ],
   "source": [
    "# 브루트포스 알고리즘 == 브루트포스\n",
    "for i in range(1, 6):\n",
    "    col = \"top{}\".format(str(i))\n",
    "    company_stat_df = company_stat_df.withColumn(col, F.when(F.col(col) == \"브루트포스\", \"브루트포스 알고리즘\").otherwise(F.col(col)))\n",
    "company_stat_df.show() "
   ]
  },
  {
   "cell_type": "code",
   "execution_count": 17,
   "id": "06a1fa06",
   "metadata": {},
   "outputs": [
    {
     "data": {
      "text/plain": [
       "{'구현',\n",
       " '그래프 이론',\n",
       " '그래프 탐색',\n",
       " '그리디 알고리즘',\n",
       " '깊이 우선 탐색',\n",
       " '너비 우선 탐색',\n",
       " '다이나믹 프로그래밍',\n",
       " '다익스트라',\n",
       " '두 포인터',\n",
       " '문자열',\n",
       " '백트래킹',\n",
       " '브루트포스',\n",
       " '브루트포스 알고리즘',\n",
       " '수학',\n",
       " '시뮬레이션',\n",
       " '자료 구조',\n",
       " '자료구조',\n",
       " '정렬',\n",
       " '파싱',\n",
       " '해시',\n",
       " '해시를 사용한 집합과 맵'}"
      ]
     },
     "execution_count": 17,
     "metadata": {},
     "output_type": "execute_result"
    }
   ],
   "source": [
    "import itertools\n",
    "test_top10_bank = {\"line\": [], \"coupang\": [], \"naver\": [], \"kakao\": [], \"samsung\": []}\n",
    "for company in test_top10_bank.keys():\n",
    "    for row in company_df.filter(F.col(\"company\") == company).sort(F.col(\"count\").desc()).head(10):\n",
    "        test_top10_bank[company].append(row[1])\n",
    "\n",
    "test_bank = set(list(itertools.chain(*test_top10_bank.values())))\n",
    "test_bank"
   ]
  },
  {
   "cell_type": "code",
   "execution_count": 21,
   "id": "e85d1d70",
   "metadata": {},
   "outputs": [],
   "source": [
    "algo_df = user_df.filter(F.col(\"type\").isin(test_bank)).groupBy(\"type\").agg(F.sum(\"total_submit\").alias(\"total_submit\") \\\n",
    "                                                              ,F.sum(\"correct\").alias(\"correct\") \\\n",
    "                                                              ,F.sum(\"wrong\").alias(\"wrong\"))"
   ]
  },
  {
   "cell_type": "code",
   "execution_count": 36,
   "id": "c5498bad",
   "metadata": {},
   "outputs": [
    {
     "name": "stdout",
     "output_type": "stream",
     "text": [
      "+-----------------------+------------+-------+------+\n",
      "|                   type|total_submit|correct| wrong|\n",
      "+-----------------------+------------+-------+------+\n",
      "|해시를 사용한 집합과 맵|       55662|  28627| 27035|\n",
      "|    브루트포스 알고리즘|      388907| 200805|188102|\n",
      "+-----------------------+------------+-------+------+\n",
      "\n"
     ]
    }
   ],
   "source": [
    "algo_df.filter((F.col(\"type\") == \"브루트포스 알고리즘\") |  (F.col(\"type\") == \"해시를 사용한 집합과 맵\") | (F.col(\"type\") == \"자료구조\")).show()"
   ]
  },
  {
   "cell_type": "code",
   "execution_count": 40,
   "id": "6853f68a",
   "metadata": {},
   "outputs": [],
   "source": [
    "test_bank_deduplicate_df = test_bank - set([\"브루트포스 알고리즘\", \"해시를 사용한 집합과 맵\", \"자료구조\"])\n",
    "brute = algo_df.filter(F.col(\"type\") == \"브루트포스 알고리즘\").head()\n",
    "hashed = algo_df.filter(F.col(\"type\") == \"해시를 사용한 집합과 맵\").head()"
   ]
  },
  {
   "cell_type": "code",
   "execution_count": 44,
   "id": "6d46bef0",
   "metadata": {},
   "outputs": [],
   "source": [
    "test_bank_df = algo_df.filter(F.col(\"type\").isin(test_bank_deduplicate_df)) \\\n",
    "   .withColumn(\"total_submit\", F.when(F.col(\"type\") == \"브루트포스\", F.col(\"total_submit\") + brute[1]) \\\n",
    "               .when(F.col(\"type\") == \"해시\", F.col(\"total_submit\") + hashed[1]) \\\n",
    "               .otherwise(F.col(\"total_submit\"))) \\\n",
    "   .withColumn(\"correct\", F.when(F.col(\"type\") == \"브루트포스\", F.col(\"correct\") + brute[2]) \\\n",
    "               .when(F.col(\"type\") == \"해시\", F.col(\"correct\") + hashed[2]) \\\n",
    "               .otherwise(F.col(\"correct\"))) \\\n",
    "    .withColumn(\"wrong\", F.when(F.col(\"type\") == \"브루트포스\", F.col(\"wrong\") + brute[3]) \\\n",
    "               .when(F.col(\"type\") == \"해시\", F.col(\"wrong\") + hashed[3]) \\\n",
    "               .otherwise(F.col(\"wrong\"))) \\\n",
    "    .withColumn(\"correct_rate\", F.col(\"correct\") / F.col(\"total_submit\"))"
   ]
  },
  {
   "cell_type": "code",
   "execution_count": 46,
   "id": "e7045d08",
   "metadata": {},
   "outputs": [],
   "source": [
    "joined_bank_df = test_bank_df.join(problem_df.select(\"type\", \"avg_of_difficulty\"), [\"type\"], \"left_outer\")"
   ]
  },
  {
   "cell_type": "markdown",
   "id": "285fdebb",
   "metadata": {},
   "source": [
    "# Dimensonality Reduction"
   ]
  },
  {
   "cell_type": "markdown",
   "id": "534dbade",
   "metadata": {},
   "source": [
    "## Correlation"
   ]
  },
  {
   "cell_type": "code",
   "execution_count": 57,
   "id": "b6f4824c",
   "metadata": {},
   "outputs": [],
   "source": [
    "transposed_bank_df = sqlContext.createDataFrame(joined_bank_df.toPandas().set_index(\"type\").transpose())"
   ]
  },
  {
   "cell_type": "code",
   "execution_count": 69,
   "id": "7498ce78",
   "metadata": {},
   "outputs": [
    {
     "data": {
      "text/html": [
       "<div>\n",
       "<style scoped>\n",
       "    .dataframe tbody tr th:only-of-type {\n",
       "        vertical-align: middle;\n",
       "    }\n",
       "\n",
       "    .dataframe tbody tr th {\n",
       "        vertical-align: top;\n",
       "    }\n",
       "\n",
       "    .dataframe thead th {\n",
       "        text-align: right;\n",
       "    }\n",
       "</style>\n",
       "<table border=\"1\" class=\"dataframe\">\n",
       "  <thead>\n",
       "    <tr style=\"text-align: right;\">\n",
       "      <th>type</th>\n",
       "      <th>다익스트라</th>\n",
       "      <th>다이나믹 프로그래밍</th>\n",
       "      <th>그래프 탐색</th>\n",
       "      <th>구현</th>\n",
       "      <th>파싱</th>\n",
       "      <th>수학</th>\n",
       "      <th>깊이 우선 탐색</th>\n",
       "      <th>너비 우선 탐색</th>\n",
       "      <th>그래프 이론</th>\n",
       "      <th>그리디 알고리즘</th>\n",
       "      <th>두 포인터</th>\n",
       "      <th>문자열</th>\n",
       "      <th>백트래킹</th>\n",
       "      <th>자료 구조</th>\n",
       "      <th>시뮬레이션</th>\n",
       "      <th>정렬</th>\n",
       "    </tr>\n",
       "    <tr>\n",
       "      <th>type</th>\n",
       "      <th></th>\n",
       "      <th></th>\n",
       "      <th></th>\n",
       "      <th></th>\n",
       "      <th></th>\n",
       "      <th></th>\n",
       "      <th></th>\n",
       "      <th></th>\n",
       "      <th></th>\n",
       "      <th></th>\n",
       "      <th></th>\n",
       "      <th></th>\n",
       "      <th></th>\n",
       "      <th></th>\n",
       "      <th></th>\n",
       "      <th></th>\n",
       "    </tr>\n",
       "  </thead>\n",
       "  <tbody>\n",
       "    <tr>\n",
       "      <th>다익스트라</th>\n",
       "      <td>1.000000</td>\n",
       "      <td>0.988020</td>\n",
       "      <td>0.993974</td>\n",
       "      <td>0.920017</td>\n",
       "      <td>0.989428</td>\n",
       "      <td>0.945196</td>\n",
       "      <td>0.987721</td>\n",
       "      <td>0.992501</td>\n",
       "      <td>0.994437</td>\n",
       "      <td>0.990049</td>\n",
       "      <td>0.999600</td>\n",
       "      <td>0.957273</td>\n",
       "      <td>0.963842</td>\n",
       "      <td>0.992050</td>\n",
       "      <td>0.977442</td>\n",
       "      <td>0.988502</td>\n",
       "    </tr>\n",
       "    <tr>\n",
       "      <th>다이나믹 프로그래밍</th>\n",
       "      <td>0.988020</td>\n",
       "      <td>1.000000</td>\n",
       "      <td>0.998983</td>\n",
       "      <td>0.969471</td>\n",
       "      <td>0.999956</td>\n",
       "      <td>0.984260</td>\n",
       "      <td>0.999998</td>\n",
       "      <td>0.999475</td>\n",
       "      <td>0.998779</td>\n",
       "      <td>0.999905</td>\n",
       "      <td>0.991992</td>\n",
       "      <td>0.990433</td>\n",
       "      <td>0.993419</td>\n",
       "      <td>0.999586</td>\n",
       "      <td>0.998326</td>\n",
       "      <td>0.999995</td>\n",
       "    </tr>\n",
       "    <tr>\n",
       "      <th>그래프 탐색</th>\n",
       "      <td>0.993974</td>\n",
       "      <td>0.998983</td>\n",
       "      <td>1.000000</td>\n",
       "      <td>0.957429</td>\n",
       "      <td>0.999363</td>\n",
       "      <td>0.975290</td>\n",
       "      <td>0.998894</td>\n",
       "      <td>0.999919</td>\n",
       "      <td>0.999991</td>\n",
       "      <td>0.999508</td>\n",
       "      <td>0.996678</td>\n",
       "      <td>0.983204</td>\n",
       "      <td>0.987244</td>\n",
       "      <td>0.999867</td>\n",
       "      <td>0.994703</td>\n",
       "      <td>0.999120</td>\n",
       "    </tr>\n",
       "    <tr>\n",
       "      <th>구현</th>\n",
       "      <td>0.920017</td>\n",
       "      <td>0.969471</td>\n",
       "      <td>0.957429</td>\n",
       "      <td>1.000000</td>\n",
       "      <td>0.967122</td>\n",
       "      <td>0.997546</td>\n",
       "      <td>0.969942</td>\n",
       "      <td>0.961020</td>\n",
       "      <td>0.956176</td>\n",
       "      <td>0.966009</td>\n",
       "      <td>0.930737</td>\n",
       "      <td>0.994033</td>\n",
       "      <td>0.991177</td>\n",
       "      <td>0.962017</td>\n",
       "      <td>0.982029</td>\n",
       "      <td>0.968693</td>\n",
       "    </tr>\n",
       "    <tr>\n",
       "      <th>파싱</th>\n",
       "      <td>0.989428</td>\n",
       "      <td>0.999956</td>\n",
       "      <td>0.999363</td>\n",
       "      <td>0.967122</td>\n",
       "      <td>1.000000</td>\n",
       "      <td>0.982554</td>\n",
       "      <td>0.999936</td>\n",
       "      <td>0.999736</td>\n",
       "      <td>0.999200</td>\n",
       "      <td>0.999991</td>\n",
       "      <td>0.993136</td>\n",
       "      <td>0.989091</td>\n",
       "      <td>0.992297</td>\n",
       "      <td>0.999813</td>\n",
       "      <td>0.997738</td>\n",
       "      <td>0.999980</td>\n",
       "    </tr>\n",
       "    <tr>\n",
       "      <th>수학</th>\n",
       "      <td>0.945196</td>\n",
       "      <td>0.984260</td>\n",
       "      <td>0.975290</td>\n",
       "      <td>0.997546</td>\n",
       "      <td>0.982554</td>\n",
       "      <td>1.000000</td>\n",
       "      <td>0.984598</td>\n",
       "      <td>0.978019</td>\n",
       "      <td>0.974329</td>\n",
       "      <td>0.981737</td>\n",
       "      <td>0.954056</td>\n",
       "      <td>0.999231</td>\n",
       "      <td>0.998024</td>\n",
       "      <td>0.978769</td>\n",
       "      <td>0.992833</td>\n",
       "      <td>0.983697</td>\n",
       "    </tr>\n",
       "    <tr>\n",
       "      <th>깊이 우선 탐색</th>\n",
       "      <td>0.987721</td>\n",
       "      <td>0.999998</td>\n",
       "      <td>0.998894</td>\n",
       "      <td>0.969942</td>\n",
       "      <td>0.999936</td>\n",
       "      <td>0.984598</td>\n",
       "      <td>1.000000</td>\n",
       "      <td>0.999411</td>\n",
       "      <td>0.998682</td>\n",
       "      <td>0.999877</td>\n",
       "      <td>0.991747</td>\n",
       "      <td>0.990697</td>\n",
       "      <td>0.993637</td>\n",
       "      <td>0.999529</td>\n",
       "      <td>0.998436</td>\n",
       "      <td>0.999987</td>\n",
       "    </tr>\n",
       "    <tr>\n",
       "      <th>너비 우선 탐색</th>\n",
       "      <td>0.992501</td>\n",
       "      <td>0.999475</td>\n",
       "      <td>0.999919</td>\n",
       "      <td>0.961020</td>\n",
       "      <td>0.999736</td>\n",
       "      <td>0.978019</td>\n",
       "      <td>0.999411</td>\n",
       "      <td>1.000000</td>\n",
       "      <td>0.999855</td>\n",
       "      <td>0.999826</td>\n",
       "      <td>0.995562</td>\n",
       "      <td>0.985444</td>\n",
       "      <td>0.989187</td>\n",
       "      <td>0.999993</td>\n",
       "      <td>0.995929</td>\n",
       "      <td>0.999572</td>\n",
       "    </tr>\n",
       "    <tr>\n",
       "      <th>그래프 이론</th>\n",
       "      <td>0.994437</td>\n",
       "      <td>0.998779</td>\n",
       "      <td>0.999991</td>\n",
       "      <td>0.956176</td>\n",
       "      <td>0.999200</td>\n",
       "      <td>0.974329</td>\n",
       "      <td>0.998682</td>\n",
       "      <td>0.999855</td>\n",
       "      <td>1.000000</td>\n",
       "      <td>0.999364</td>\n",
       "      <td>0.997019</td>\n",
       "      <td>0.982408</td>\n",
       "      <td>0.986549</td>\n",
       "      <td>0.999787</td>\n",
       "      <td>0.994251</td>\n",
       "      <td>0.998930</td>\n",
       "    </tr>\n",
       "    <tr>\n",
       "      <th>그리디 알고리즘</th>\n",
       "      <td>0.990049</td>\n",
       "      <td>0.999905</td>\n",
       "      <td>0.999508</td>\n",
       "      <td>0.966009</td>\n",
       "      <td>0.999991</td>\n",
       "      <td>0.981737</td>\n",
       "      <td>0.999877</td>\n",
       "      <td>0.999826</td>\n",
       "      <td>0.999364</td>\n",
       "      <td>1.000000</td>\n",
       "      <td>0.993634</td>\n",
       "      <td>0.988442</td>\n",
       "      <td>0.991750</td>\n",
       "      <td>0.999887</td>\n",
       "      <td>0.997437</td>\n",
       "      <td>0.999944</td>\n",
       "    </tr>\n",
       "    <tr>\n",
       "      <th>두 포인터</th>\n",
       "      <td>0.999600</td>\n",
       "      <td>0.991992</td>\n",
       "      <td>0.996678</td>\n",
       "      <td>0.930737</td>\n",
       "      <td>0.993136</td>\n",
       "      <td>0.954056</td>\n",
       "      <td>0.991747</td>\n",
       "      <td>0.995562</td>\n",
       "      <td>0.997019</td>\n",
       "      <td>0.993634</td>\n",
       "      <td>1.000000</td>\n",
       "      <td>0.965072</td>\n",
       "      <td>0.970996</td>\n",
       "      <td>0.995214</td>\n",
       "      <td>0.983027</td>\n",
       "      <td>0.992385</td>\n",
       "    </tr>\n",
       "    <tr>\n",
       "      <th>문자열</th>\n",
       "      <td>0.957273</td>\n",
       "      <td>0.990433</td>\n",
       "      <td>0.983204</td>\n",
       "      <td>0.994033</td>\n",
       "      <td>0.989091</td>\n",
       "      <td>0.999231</td>\n",
       "      <td>0.990697</td>\n",
       "      <td>0.985444</td>\n",
       "      <td>0.982408</td>\n",
       "      <td>0.988442</td>\n",
       "      <td>0.965072</td>\n",
       "      <td>1.000000</td>\n",
       "      <td>0.999721</td>\n",
       "      <td>0.986054</td>\n",
       "      <td>0.996756</td>\n",
       "      <td>0.989993</td>\n",
       "    </tr>\n",
       "    <tr>\n",
       "      <th>백트래킹</th>\n",
       "      <td>0.963842</td>\n",
       "      <td>0.993419</td>\n",
       "      <td>0.987244</td>\n",
       "      <td>0.991177</td>\n",
       "      <td>0.992297</td>\n",
       "      <td>0.998024</td>\n",
       "      <td>0.993637</td>\n",
       "      <td>0.989187</td>\n",
       "      <td>0.986549</td>\n",
       "      <td>0.991750</td>\n",
       "      <td>0.970996</td>\n",
       "      <td>0.999721</td>\n",
       "      <td>1.000000</td>\n",
       "      <td>0.989713</td>\n",
       "      <td>0.998380</td>\n",
       "      <td>0.993052</td>\n",
       "    </tr>\n",
       "    <tr>\n",
       "      <th>자료 구조</th>\n",
       "      <td>0.992050</td>\n",
       "      <td>0.999586</td>\n",
       "      <td>0.999867</td>\n",
       "      <td>0.962017</td>\n",
       "      <td>0.999813</td>\n",
       "      <td>0.978769</td>\n",
       "      <td>0.999529</td>\n",
       "      <td>0.999993</td>\n",
       "      <td>0.999787</td>\n",
       "      <td>0.999887</td>\n",
       "      <td>0.995214</td>\n",
       "      <td>0.986054</td>\n",
       "      <td>0.989713</td>\n",
       "      <td>1.000000</td>\n",
       "      <td>0.996250</td>\n",
       "      <td>0.999672</td>\n",
       "    </tr>\n",
       "    <tr>\n",
       "      <th>시뮬레이션</th>\n",
       "      <td>0.977442</td>\n",
       "      <td>0.998326</td>\n",
       "      <td>0.994703</td>\n",
       "      <td>0.982029</td>\n",
       "      <td>0.997738</td>\n",
       "      <td>0.992833</td>\n",
       "      <td>0.998436</td>\n",
       "      <td>0.995929</td>\n",
       "      <td>0.994251</td>\n",
       "      <td>0.997437</td>\n",
       "      <td>0.983027</td>\n",
       "      <td>0.996756</td>\n",
       "      <td>0.998380</td>\n",
       "      <td>0.996250</td>\n",
       "      <td>1.000000</td>\n",
       "      <td>0.998139</td>\n",
       "    </tr>\n",
       "    <tr>\n",
       "      <th>정렬</th>\n",
       "      <td>0.988502</td>\n",
       "      <td>0.999995</td>\n",
       "      <td>0.999120</td>\n",
       "      <td>0.968693</td>\n",
       "      <td>0.999980</td>\n",
       "      <td>0.983697</td>\n",
       "      <td>0.999987</td>\n",
       "      <td>0.999572</td>\n",
       "      <td>0.998930</td>\n",
       "      <td>0.999944</td>\n",
       "      <td>0.992385</td>\n",
       "      <td>0.989993</td>\n",
       "      <td>0.993052</td>\n",
       "      <td>0.999672</td>\n",
       "      <td>0.998139</td>\n",
       "      <td>1.000000</td>\n",
       "    </tr>\n",
       "  </tbody>\n",
       "</table>\n",
       "</div>"
      ],
      "text/plain": [
       "type           다익스트라  다이나믹 프로그래밍    그래프 탐색        구현        파싱        수학  \\\n",
       "type                                                                       \n",
       "다익스트라       1.000000    0.988020  0.993974  0.920017  0.989428  0.945196   \n",
       "다이나믹 프로그래밍  0.988020    1.000000  0.998983  0.969471  0.999956  0.984260   \n",
       "그래프 탐색      0.993974    0.998983  1.000000  0.957429  0.999363  0.975290   \n",
       "구현          0.920017    0.969471  0.957429  1.000000  0.967122  0.997546   \n",
       "파싱          0.989428    0.999956  0.999363  0.967122  1.000000  0.982554   \n",
       "수학          0.945196    0.984260  0.975290  0.997546  0.982554  1.000000   \n",
       "깊이 우선 탐색    0.987721    0.999998  0.998894  0.969942  0.999936  0.984598   \n",
       "너비 우선 탐색    0.992501    0.999475  0.999919  0.961020  0.999736  0.978019   \n",
       "그래프 이론      0.994437    0.998779  0.999991  0.956176  0.999200  0.974329   \n",
       "그리디 알고리즘    0.990049    0.999905  0.999508  0.966009  0.999991  0.981737   \n",
       "두 포인터       0.999600    0.991992  0.996678  0.930737  0.993136  0.954056   \n",
       "문자열         0.957273    0.990433  0.983204  0.994033  0.989091  0.999231   \n",
       "백트래킹        0.963842    0.993419  0.987244  0.991177  0.992297  0.998024   \n",
       "자료 구조       0.992050    0.999586  0.999867  0.962017  0.999813  0.978769   \n",
       "시뮬레이션       0.977442    0.998326  0.994703  0.982029  0.997738  0.992833   \n",
       "정렬          0.988502    0.999995  0.999120  0.968693  0.999980  0.983697   \n",
       "\n",
       "type        깊이 우선 탐색  너비 우선 탐색    그래프 이론  그리디 알고리즘     두 포인터       문자열  \\\n",
       "type                                                                     \n",
       "다익스트라       0.987721  0.992501  0.994437  0.990049  0.999600  0.957273   \n",
       "다이나믹 프로그래밍  0.999998  0.999475  0.998779  0.999905  0.991992  0.990433   \n",
       "그래프 탐색      0.998894  0.999919  0.999991  0.999508  0.996678  0.983204   \n",
       "구현          0.969942  0.961020  0.956176  0.966009  0.930737  0.994033   \n",
       "파싱          0.999936  0.999736  0.999200  0.999991  0.993136  0.989091   \n",
       "수학          0.984598  0.978019  0.974329  0.981737  0.954056  0.999231   \n",
       "깊이 우선 탐색    1.000000  0.999411  0.998682  0.999877  0.991747  0.990697   \n",
       "너비 우선 탐색    0.999411  1.000000  0.999855  0.999826  0.995562  0.985444   \n",
       "그래프 이론      0.998682  0.999855  1.000000  0.999364  0.997019  0.982408   \n",
       "그리디 알고리즘    0.999877  0.999826  0.999364  1.000000  0.993634  0.988442   \n",
       "두 포인터       0.991747  0.995562  0.997019  0.993634  1.000000  0.965072   \n",
       "문자열         0.990697  0.985444  0.982408  0.988442  0.965072  1.000000   \n",
       "백트래킹        0.993637  0.989187  0.986549  0.991750  0.970996  0.999721   \n",
       "자료 구조       0.999529  0.999993  0.999787  0.999887  0.995214  0.986054   \n",
       "시뮬레이션       0.998436  0.995929  0.994251  0.997437  0.983027  0.996756   \n",
       "정렬          0.999987  0.999572  0.998930  0.999944  0.992385  0.989993   \n",
       "\n",
       "type            백트래킹     자료 구조     시뮬레이션        정렬  \n",
       "type                                                \n",
       "다익스트라       0.963842  0.992050  0.977442  0.988502  \n",
       "다이나믹 프로그래밍  0.993419  0.999586  0.998326  0.999995  \n",
       "그래프 탐색      0.987244  0.999867  0.994703  0.999120  \n",
       "구현          0.991177  0.962017  0.982029  0.968693  \n",
       "파싱          0.992297  0.999813  0.997738  0.999980  \n",
       "수학          0.998024  0.978769  0.992833  0.983697  \n",
       "깊이 우선 탐색    0.993637  0.999529  0.998436  0.999987  \n",
       "너비 우선 탐색    0.989187  0.999993  0.995929  0.999572  \n",
       "그래프 이론      0.986549  0.999787  0.994251  0.998930  \n",
       "그리디 알고리즘    0.991750  0.999887  0.997437  0.999944  \n",
       "두 포인터       0.970996  0.995214  0.983027  0.992385  \n",
       "문자열         0.999721  0.986054  0.996756  0.989993  \n",
       "백트래킹        1.000000  0.989713  0.998380  0.993052  \n",
       "자료 구조       0.989713  1.000000  0.996250  0.999672  \n",
       "시뮬레이션       0.998380  0.996250  1.000000  0.998139  \n",
       "정렬          0.993052  0.999672  0.998139  1.000000  "
      ]
     },
     "execution_count": 69,
     "metadata": {},
     "output_type": "execute_result"
    }
   ],
   "source": [
    "transposed_bank_pd = joined_bank_df.toPandas().set_index(\"type\").transpose()\n",
    "transposed_bank_pd.corr()\n"
   ]
  },
  {
   "cell_type": "code",
   "execution_count": 73,
   "id": "8eac7043",
   "metadata": {},
   "outputs": [],
   "source": [
    "%matplotlib inline\n",
    "import matplotlib.pyplot as plt \n",
    "import seaborn as sns"
   ]
  },
  {
   "cell_type": "code",
   "execution_count": 74,
   "id": "ba740155",
   "metadata": {
    "scrolled": true
   },
   "outputs": [
    {
     "name": "stderr",
     "output_type": "stream",
     "text": [
      "/home/hadoop/venv/lib/python3.6/site-packages/matplotlib/backends/backend_agg.py:238: RuntimeWarning: Glyph 45796 missing from current font.\n",
      "  font.set_text(s, 0.0, flags=flags)\n",
      "/home/hadoop/venv/lib/python3.6/site-packages/matplotlib/backends/backend_agg.py:238: RuntimeWarning: Glyph 51061 missing from current font.\n",
      "  font.set_text(s, 0.0, flags=flags)\n",
      "/home/hadoop/venv/lib/python3.6/site-packages/matplotlib/backends/backend_agg.py:238: RuntimeWarning: Glyph 49828 missing from current font.\n",
      "  font.set_text(s, 0.0, flags=flags)\n",
      "/home/hadoop/venv/lib/python3.6/site-packages/matplotlib/backends/backend_agg.py:238: RuntimeWarning: Glyph 53944 missing from current font.\n",
      "  font.set_text(s, 0.0, flags=flags)\n",
      "/home/hadoop/venv/lib/python3.6/site-packages/matplotlib/backends/backend_agg.py:238: RuntimeWarning: Glyph 46972 missing from current font.\n",
      "  font.set_text(s, 0.0, flags=flags)\n",
      "/home/hadoop/venv/lib/python3.6/site-packages/matplotlib/backends/backend_agg.py:238: RuntimeWarning: Glyph 51060 missing from current font.\n",
      "  font.set_text(s, 0.0, flags=flags)\n",
      "/home/hadoop/venv/lib/python3.6/site-packages/matplotlib/backends/backend_agg.py:238: RuntimeWarning: Glyph 45208 missing from current font.\n",
      "  font.set_text(s, 0.0, flags=flags)\n",
      "/home/hadoop/venv/lib/python3.6/site-packages/matplotlib/backends/backend_agg.py:238: RuntimeWarning: Glyph 48121 missing from current font.\n",
      "  font.set_text(s, 0.0, flags=flags)\n",
      "/home/hadoop/venv/lib/python3.6/site-packages/matplotlib/backends/backend_agg.py:238: RuntimeWarning: Glyph 54532 missing from current font.\n",
      "  font.set_text(s, 0.0, flags=flags)\n",
      "/home/hadoop/venv/lib/python3.6/site-packages/matplotlib/backends/backend_agg.py:238: RuntimeWarning: Glyph 47196 missing from current font.\n",
      "  font.set_text(s, 0.0, flags=flags)\n",
      "/home/hadoop/venv/lib/python3.6/site-packages/matplotlib/backends/backend_agg.py:238: RuntimeWarning: Glyph 44536 missing from current font.\n",
      "  font.set_text(s, 0.0, flags=flags)\n",
      "/home/hadoop/venv/lib/python3.6/site-packages/matplotlib/backends/backend_agg.py:238: RuntimeWarning: Glyph 47000 missing from current font.\n",
      "  font.set_text(s, 0.0, flags=flags)\n",
      "/home/hadoop/venv/lib/python3.6/site-packages/matplotlib/backends/backend_agg.py:238: RuntimeWarning: Glyph 48141 missing from current font.\n",
      "  font.set_text(s, 0.0, flags=flags)\n",
      "/home/hadoop/venv/lib/python3.6/site-packages/matplotlib/backends/backend_agg.py:238: RuntimeWarning: Glyph 53456 missing from current font.\n",
      "  font.set_text(s, 0.0, flags=flags)\n",
      "/home/hadoop/venv/lib/python3.6/site-packages/matplotlib/backends/backend_agg.py:238: RuntimeWarning: Glyph 49353 missing from current font.\n",
      "  font.set_text(s, 0.0, flags=flags)\n",
      "/home/hadoop/venv/lib/python3.6/site-packages/matplotlib/backends/backend_agg.py:238: RuntimeWarning: Glyph 44396 missing from current font.\n",
      "  font.set_text(s, 0.0, flags=flags)\n",
      "/home/hadoop/venv/lib/python3.6/site-packages/matplotlib/backends/backend_agg.py:238: RuntimeWarning: Glyph 54788 missing from current font.\n",
      "  font.set_text(s, 0.0, flags=flags)\n",
      "/home/hadoop/venv/lib/python3.6/site-packages/matplotlib/backends/backend_agg.py:238: RuntimeWarning: Glyph 54028 missing from current font.\n",
      "  font.set_text(s, 0.0, flags=flags)\n",
      "/home/hadoop/venv/lib/python3.6/site-packages/matplotlib/backends/backend_agg.py:238: RuntimeWarning: Glyph 49905 missing from current font.\n",
      "  font.set_text(s, 0.0, flags=flags)\n",
      "/home/hadoop/venv/lib/python3.6/site-packages/matplotlib/backends/backend_agg.py:238: RuntimeWarning: Glyph 49688 missing from current font.\n",
      "  font.set_text(s, 0.0, flags=flags)\n",
      "/home/hadoop/venv/lib/python3.6/site-packages/matplotlib/backends/backend_agg.py:238: RuntimeWarning: Glyph 54617 missing from current font.\n",
      "  font.set_text(s, 0.0, flags=flags)\n",
      "/home/hadoop/venv/lib/python3.6/site-packages/matplotlib/backends/backend_agg.py:238: RuntimeWarning: Glyph 44618 missing from current font.\n",
      "  font.set_text(s, 0.0, flags=flags)\n",
      "/home/hadoop/venv/lib/python3.6/site-packages/matplotlib/backends/backend_agg.py:238: RuntimeWarning: Glyph 50864 missing from current font.\n",
      "  font.set_text(s, 0.0, flags=flags)\n",
      "/home/hadoop/venv/lib/python3.6/site-packages/matplotlib/backends/backend_agg.py:238: RuntimeWarning: Glyph 49440 missing from current font.\n",
      "  font.set_text(s, 0.0, flags=flags)\n",
      "/home/hadoop/venv/lib/python3.6/site-packages/matplotlib/backends/backend_agg.py:238: RuntimeWarning: Glyph 45320 missing from current font.\n",
      "  font.set_text(s, 0.0, flags=flags)\n",
      "/home/hadoop/venv/lib/python3.6/site-packages/matplotlib/backends/backend_agg.py:238: RuntimeWarning: Glyph 48708 missing from current font.\n",
      "  font.set_text(s, 0.0, flags=flags)\n",
      "/home/hadoop/venv/lib/python3.6/site-packages/matplotlib/backends/backend_agg.py:238: RuntimeWarning: Glyph 47200 missing from current font.\n",
      "  font.set_text(s, 0.0, flags=flags)\n",
      "/home/hadoop/venv/lib/python3.6/site-packages/matplotlib/backends/backend_agg.py:238: RuntimeWarning: Glyph 47532 missing from current font.\n",
      "  font.set_text(s, 0.0, flags=flags)\n",
      "/home/hadoop/venv/lib/python3.6/site-packages/matplotlib/backends/backend_agg.py:238: RuntimeWarning: Glyph 46356 missing from current font.\n",
      "  font.set_text(s, 0.0, flags=flags)\n",
      "/home/hadoop/venv/lib/python3.6/site-packages/matplotlib/backends/backend_agg.py:238: RuntimeWarning: Glyph 50508 missing from current font.\n",
      "  font.set_text(s, 0.0, flags=flags)\n",
      "/home/hadoop/venv/lib/python3.6/site-packages/matplotlib/backends/backend_agg.py:238: RuntimeWarning: Glyph 44256 missing from current font.\n",
      "  font.set_text(s, 0.0, flags=flags)\n",
      "/home/hadoop/venv/lib/python3.6/site-packages/matplotlib/backends/backend_agg.py:238: RuntimeWarning: Glyph 51608 missing from current font.\n",
      "  font.set_text(s, 0.0, flags=flags)\n",
      "/home/hadoop/venv/lib/python3.6/site-packages/matplotlib/backends/backend_agg.py:238: RuntimeWarning: Glyph 46160 missing from current font.\n",
      "  font.set_text(s, 0.0, flags=flags)\n",
      "/home/hadoop/venv/lib/python3.6/site-packages/matplotlib/backends/backend_agg.py:238: RuntimeWarning: Glyph 54252 missing from current font.\n",
      "  font.set_text(s, 0.0, flags=flags)\n",
      "/home/hadoop/venv/lib/python3.6/site-packages/matplotlib/backends/backend_agg.py:238: RuntimeWarning: Glyph 51064 missing from current font.\n",
      "  font.set_text(s, 0.0, flags=flags)\n",
      "/home/hadoop/venv/lib/python3.6/site-packages/matplotlib/backends/backend_agg.py:238: RuntimeWarning: Glyph 53552 missing from current font.\n",
      "  font.set_text(s, 0.0, flags=flags)\n",
      "/home/hadoop/venv/lib/python3.6/site-packages/matplotlib/backends/backend_agg.py:238: RuntimeWarning: Glyph 47928 missing from current font.\n",
      "  font.set_text(s, 0.0, flags=flags)\n",
      "/home/hadoop/venv/lib/python3.6/site-packages/matplotlib/backends/backend_agg.py:238: RuntimeWarning: Glyph 51088 missing from current font.\n",
      "  font.set_text(s, 0.0, flags=flags)\n",
      "/home/hadoop/venv/lib/python3.6/site-packages/matplotlib/backends/backend_agg.py:238: RuntimeWarning: Glyph 50676 missing from current font.\n",
      "  font.set_text(s, 0.0, flags=flags)\n",
      "/home/hadoop/venv/lib/python3.6/site-packages/matplotlib/backends/backend_agg.py:238: RuntimeWarning: Glyph 48177 missing from current font.\n",
      "  font.set_text(s, 0.0, flags=flags)\n",
      "/home/hadoop/venv/lib/python3.6/site-packages/matplotlib/backends/backend_agg.py:238: RuntimeWarning: Glyph 53433 missing from current font.\n",
      "  font.set_text(s, 0.0, flags=flags)\n",
      "/home/hadoop/venv/lib/python3.6/site-packages/matplotlib/backends/backend_agg.py:238: RuntimeWarning: Glyph 47308 missing from current font.\n",
      "  font.set_text(s, 0.0, flags=flags)\n",
      "/home/hadoop/venv/lib/python3.6/site-packages/matplotlib/backends/backend_agg.py:238: RuntimeWarning: Glyph 51312 missing from current font.\n",
      "  font.set_text(s, 0.0, flags=flags)\n",
      "/home/hadoop/venv/lib/python3.6/site-packages/matplotlib/backends/backend_agg.py:238: RuntimeWarning: Glyph 49884 missing from current font.\n",
      "  font.set_text(s, 0.0, flags=flags)\n",
      "/home/hadoop/venv/lib/python3.6/site-packages/matplotlib/backends/backend_agg.py:238: RuntimeWarning: Glyph 48044 missing from current font.\n",
      "  font.set_text(s, 0.0, flags=flags)\n",
      "/home/hadoop/venv/lib/python3.6/site-packages/matplotlib/backends/backend_agg.py:238: RuntimeWarning: Glyph 47112 missing from current font.\n",
      "  font.set_text(s, 0.0, flags=flags)\n",
      "/home/hadoop/venv/lib/python3.6/site-packages/matplotlib/backends/backend_agg.py:238: RuntimeWarning: Glyph 49496 missing from current font.\n",
      "  font.set_text(s, 0.0, flags=flags)\n",
      "/home/hadoop/venv/lib/python3.6/site-packages/matplotlib/backends/backend_agg.py:238: RuntimeWarning: Glyph 51221 missing from current font.\n",
      "  font.set_text(s, 0.0, flags=flags)\n",
      "/home/hadoop/venv/lib/python3.6/site-packages/matplotlib/backends/backend_agg.py:238: RuntimeWarning: Glyph 47148 missing from current font.\n",
      "  font.set_text(s, 0.0, flags=flags)\n",
      "/home/hadoop/venv/lib/python3.6/site-packages/matplotlib/backends/backend_agg.py:201: RuntimeWarning: Glyph 45796 missing from current font.\n",
      "  font.set_text(s, 0, flags=flags)\n",
      "/home/hadoop/venv/lib/python3.6/site-packages/matplotlib/backends/backend_agg.py:201: RuntimeWarning: Glyph 51061 missing from current font.\n",
      "  font.set_text(s, 0, flags=flags)\n",
      "/home/hadoop/venv/lib/python3.6/site-packages/matplotlib/backends/backend_agg.py:201: RuntimeWarning: Glyph 49828 missing from current font.\n",
      "  font.set_text(s, 0, flags=flags)\n",
      "/home/hadoop/venv/lib/python3.6/site-packages/matplotlib/backends/backend_agg.py:201: RuntimeWarning: Glyph 53944 missing from current font.\n",
      "  font.set_text(s, 0, flags=flags)\n",
      "/home/hadoop/venv/lib/python3.6/site-packages/matplotlib/backends/backend_agg.py:201: RuntimeWarning: Glyph 46972 missing from current font.\n",
      "  font.set_text(s, 0, flags=flags)\n",
      "/home/hadoop/venv/lib/python3.6/site-packages/matplotlib/backends/backend_agg.py:201: RuntimeWarning: Glyph 51060 missing from current font.\n",
      "  font.set_text(s, 0, flags=flags)\n",
      "/home/hadoop/venv/lib/python3.6/site-packages/matplotlib/backends/backend_agg.py:201: RuntimeWarning: Glyph 45208 missing from current font.\n",
      "  font.set_text(s, 0, flags=flags)\n",
      "/home/hadoop/venv/lib/python3.6/site-packages/matplotlib/backends/backend_agg.py:201: RuntimeWarning: Glyph 48121 missing from current font.\n",
      "  font.set_text(s, 0, flags=flags)\n",
      "/home/hadoop/venv/lib/python3.6/site-packages/matplotlib/backends/backend_agg.py:201: RuntimeWarning: Glyph 54532 missing from current font.\n",
      "  font.set_text(s, 0, flags=flags)\n",
      "/home/hadoop/venv/lib/python3.6/site-packages/matplotlib/backends/backend_agg.py:201: RuntimeWarning: Glyph 47196 missing from current font.\n",
      "  font.set_text(s, 0, flags=flags)\n",
      "/home/hadoop/venv/lib/python3.6/site-packages/matplotlib/backends/backend_agg.py:201: RuntimeWarning: Glyph 44536 missing from current font.\n",
      "  font.set_text(s, 0, flags=flags)\n",
      "/home/hadoop/venv/lib/python3.6/site-packages/matplotlib/backends/backend_agg.py:201: RuntimeWarning: Glyph 47000 missing from current font.\n",
      "  font.set_text(s, 0, flags=flags)\n",
      "/home/hadoop/venv/lib/python3.6/site-packages/matplotlib/backends/backend_agg.py:201: RuntimeWarning: Glyph 48141 missing from current font.\n",
      "  font.set_text(s, 0, flags=flags)\n",
      "/home/hadoop/venv/lib/python3.6/site-packages/matplotlib/backends/backend_agg.py:201: RuntimeWarning: Glyph 53456 missing from current font.\n",
      "  font.set_text(s, 0, flags=flags)\n",
      "/home/hadoop/venv/lib/python3.6/site-packages/matplotlib/backends/backend_agg.py:201: RuntimeWarning: Glyph 49353 missing from current font.\n",
      "  font.set_text(s, 0, flags=flags)\n",
      "/home/hadoop/venv/lib/python3.6/site-packages/matplotlib/backends/backend_agg.py:201: RuntimeWarning: Glyph 44396 missing from current font.\n",
      "  font.set_text(s, 0, flags=flags)\n",
      "/home/hadoop/venv/lib/python3.6/site-packages/matplotlib/backends/backend_agg.py:201: RuntimeWarning: Glyph 54788 missing from current font.\n",
      "  font.set_text(s, 0, flags=flags)\n",
      "/home/hadoop/venv/lib/python3.6/site-packages/matplotlib/backends/backend_agg.py:201: RuntimeWarning: Glyph 54028 missing from current font.\n",
      "  font.set_text(s, 0, flags=flags)\n",
      "/home/hadoop/venv/lib/python3.6/site-packages/matplotlib/backends/backend_agg.py:201: RuntimeWarning: Glyph 49905 missing from current font.\n",
      "  font.set_text(s, 0, flags=flags)\n",
      "/home/hadoop/venv/lib/python3.6/site-packages/matplotlib/backends/backend_agg.py:201: RuntimeWarning: Glyph 49688 missing from current font.\n",
      "  font.set_text(s, 0, flags=flags)\n",
      "/home/hadoop/venv/lib/python3.6/site-packages/matplotlib/backends/backend_agg.py:201: RuntimeWarning: Glyph 54617 missing from current font.\n",
      "  font.set_text(s, 0, flags=flags)\n",
      "/home/hadoop/venv/lib/python3.6/site-packages/matplotlib/backends/backend_agg.py:201: RuntimeWarning: Glyph 44618 missing from current font.\n",
      "  font.set_text(s, 0, flags=flags)\n",
      "/home/hadoop/venv/lib/python3.6/site-packages/matplotlib/backends/backend_agg.py:201: RuntimeWarning: Glyph 50864 missing from current font.\n",
      "  font.set_text(s, 0, flags=flags)\n",
      "/home/hadoop/venv/lib/python3.6/site-packages/matplotlib/backends/backend_agg.py:201: RuntimeWarning: Glyph 49440 missing from current font.\n",
      "  font.set_text(s, 0, flags=flags)\n",
      "/home/hadoop/venv/lib/python3.6/site-packages/matplotlib/backends/backend_agg.py:201: RuntimeWarning: Glyph 45320 missing from current font.\n",
      "  font.set_text(s, 0, flags=flags)\n",
      "/home/hadoop/venv/lib/python3.6/site-packages/matplotlib/backends/backend_agg.py:201: RuntimeWarning: Glyph 48708 missing from current font.\n",
      "  font.set_text(s, 0, flags=flags)\n",
      "/home/hadoop/venv/lib/python3.6/site-packages/matplotlib/backends/backend_agg.py:201: RuntimeWarning: Glyph 47200 missing from current font.\n",
      "  font.set_text(s, 0, flags=flags)\n",
      "/home/hadoop/venv/lib/python3.6/site-packages/matplotlib/backends/backend_agg.py:201: RuntimeWarning: Glyph 47532 missing from current font.\n",
      "  font.set_text(s, 0, flags=flags)\n",
      "/home/hadoop/venv/lib/python3.6/site-packages/matplotlib/backends/backend_agg.py:201: RuntimeWarning: Glyph 46356 missing from current font.\n",
      "  font.set_text(s, 0, flags=flags)\n",
      "/home/hadoop/venv/lib/python3.6/site-packages/matplotlib/backends/backend_agg.py:201: RuntimeWarning: Glyph 50508 missing from current font.\n",
      "  font.set_text(s, 0, flags=flags)\n",
      "/home/hadoop/venv/lib/python3.6/site-packages/matplotlib/backends/backend_agg.py:201: RuntimeWarning: Glyph 44256 missing from current font.\n",
      "  font.set_text(s, 0, flags=flags)\n",
      "/home/hadoop/venv/lib/python3.6/site-packages/matplotlib/backends/backend_agg.py:201: RuntimeWarning: Glyph 51608 missing from current font.\n",
      "  font.set_text(s, 0, flags=flags)\n",
      "/home/hadoop/venv/lib/python3.6/site-packages/matplotlib/backends/backend_agg.py:201: RuntimeWarning: Glyph 46160 missing from current font.\n",
      "  font.set_text(s, 0, flags=flags)\n",
      "/home/hadoop/venv/lib/python3.6/site-packages/matplotlib/backends/backend_agg.py:201: RuntimeWarning: Glyph 54252 missing from current font.\n",
      "  font.set_text(s, 0, flags=flags)\n",
      "/home/hadoop/venv/lib/python3.6/site-packages/matplotlib/backends/backend_agg.py:201: RuntimeWarning: Glyph 51064 missing from current font.\n",
      "  font.set_text(s, 0, flags=flags)\n",
      "/home/hadoop/venv/lib/python3.6/site-packages/matplotlib/backends/backend_agg.py:201: RuntimeWarning: Glyph 53552 missing from current font.\n",
      "  font.set_text(s, 0, flags=flags)\n",
      "/home/hadoop/venv/lib/python3.6/site-packages/matplotlib/backends/backend_agg.py:201: RuntimeWarning: Glyph 47928 missing from current font.\n",
      "  font.set_text(s, 0, flags=flags)\n",
      "/home/hadoop/venv/lib/python3.6/site-packages/matplotlib/backends/backend_agg.py:201: RuntimeWarning: Glyph 51088 missing from current font.\n",
      "  font.set_text(s, 0, flags=flags)\n",
      "/home/hadoop/venv/lib/python3.6/site-packages/matplotlib/backends/backend_agg.py:201: RuntimeWarning: Glyph 50676 missing from current font.\n",
      "  font.set_text(s, 0, flags=flags)\n",
      "/home/hadoop/venv/lib/python3.6/site-packages/matplotlib/backends/backend_agg.py:201: RuntimeWarning: Glyph 48177 missing from current font.\n",
      "  font.set_text(s, 0, flags=flags)\n",
      "/home/hadoop/venv/lib/python3.6/site-packages/matplotlib/backends/backend_agg.py:201: RuntimeWarning: Glyph 53433 missing from current font.\n",
      "  font.set_text(s, 0, flags=flags)\n",
      "/home/hadoop/venv/lib/python3.6/site-packages/matplotlib/backends/backend_agg.py:201: RuntimeWarning: Glyph 47308 missing from current font.\n",
      "  font.set_text(s, 0, flags=flags)\n",
      "/home/hadoop/venv/lib/python3.6/site-packages/matplotlib/backends/backend_agg.py:201: RuntimeWarning: Glyph 51312 missing from current font.\n",
      "  font.set_text(s, 0, flags=flags)\n",
      "/home/hadoop/venv/lib/python3.6/site-packages/matplotlib/backends/backend_agg.py:201: RuntimeWarning: Glyph 49884 missing from current font.\n",
      "  font.set_text(s, 0, flags=flags)\n",
      "/home/hadoop/venv/lib/python3.6/site-packages/matplotlib/backends/backend_agg.py:201: RuntimeWarning: Glyph 48044 missing from current font.\n",
      "  font.set_text(s, 0, flags=flags)\n",
      "/home/hadoop/venv/lib/python3.6/site-packages/matplotlib/backends/backend_agg.py:201: RuntimeWarning: Glyph 47112 missing from current font.\n",
      "  font.set_text(s, 0, flags=flags)\n",
      "/home/hadoop/venv/lib/python3.6/site-packages/matplotlib/backends/backend_agg.py:201: RuntimeWarning: Glyph 49496 missing from current font.\n",
      "  font.set_text(s, 0, flags=flags)\n",
      "/home/hadoop/venv/lib/python3.6/site-packages/matplotlib/backends/backend_agg.py:201: RuntimeWarning: Glyph 51221 missing from current font.\n",
      "  font.set_text(s, 0, flags=flags)\n",
      "/home/hadoop/venv/lib/python3.6/site-packages/matplotlib/backends/backend_agg.py:201: RuntimeWarning: Glyph 47148 missing from current font.\n",
      "  font.set_text(s, 0, flags=flags)\n"
     ]
    },
    {
     "data": {
      "text/plain": [
       "<AxesSubplot:xlabel='type', ylabel='type'>"
      ]
     },
     "execution_count": 74,
     "metadata": {},
     "output_type": "execute_result"
    },
    {
     "data": {
      "image/png": "[encoded data removed]",
      "text/plain": [
       "<Figure size 1080x1080 with 2 Axes>"
      ]
     },
     "metadata": {
      "needs_background": "light"
     },
     "output_type": "display_data"
    }
   ],
   "source": [
    "plt.figure(figsize=(15,15))\n",
    "sns.heatmap(data = transposed_bank_pd.corr(), annot=True, \n",
    "fmt = '.2f', linewidths=.5, cmap='Blues')"
   ]
  },
  {
   "cell_type": "markdown",
   "id": "70249f75",
   "metadata": {},
   "source": [
    "## Feature Selection"
   ]
  },
  {
   "cell_type": "code",
   "execution_count": 79,
   "id": "e71941b8",
   "metadata": {
    "scrolled": false
   },
   "outputs": [
    {
     "name": "stdout",
     "output_type": "stream",
     "text": [
      "root\n",
      " |-- user: string (nullable = true)\n",
      " |-- collect_list(type): array (nullable = true)\n",
      " |    |-- element: string (containsNull = true)\n",
      " |-- collect_list(total_submit): array (nullable = true)\n",
      " |    |-- element: integer (containsNull = true)\n",
      " |-- collect_list(correct): array (nullable = true)\n",
      " |    |-- element: integer (containsNull = true)\n",
      " |-- collect_list(wrong): array (nullable = true)\n",
      " |    |-- element: integer (containsNull = true)\n",
      " |-- collect_list(correct_rate): array (nullable = true)\n",
      " |    |-- element: float (containsNull = true)\n",
      "\n"
     ]
    }
   ],
   "source": [
    "user_grouped_df = user_df.groupBy(\"user\").agg(F.collect_list(\"type\"), F.collect_list(\"total_submit\"), F.collect_list(\"correct\"), F.collect_list(\"wrong\"), F.collect_list(\"correct_rate\"))\n",
    "user_grouped_df.printSchema()"
   ]
  },
  {
   "cell_type": "code",
   "execution_count": 366,
   "id": "3557bdd1",
   "metadata": {},
   "outputs": [],
   "source": []
  },
  {
   "cell_type": "code",
   "execution_count": 107,
   "id": "bf1af7da",
   "metadata": {},
   "outputs": [],
   "source": [
    "def line_rate(type_list, rate_list):\n",
    "    line_top5=[\"구현\", \"브루트포스 알고리즘\", \"문자열\", \"자료 구조\", \"수학\"]\n",
    "    ret = []\n",
    "    for _type in line_top5:\n",
    "        if _type in type_list:\n",
    "            ret.append(rate_list[type_list.index(_type)])\n",
    "        else:\n",
    "            ret.append(0.0)\n",
    "    return ret\n"
   ]
  },
  {
   "cell_type": "code",
   "execution_count": 108,
   "id": "ac4fda14",
   "metadata": {},
   "outputs": [],
   "source": [
    "line_rate_udf = F.udf(line_rate, ArrayType(FloatType()))"
   ]
  },
  {
   "cell_type": "code",
   "execution_count": 112,
   "id": "45dbd050",
   "metadata": {},
   "outputs": [
    {
     "name": "stdout",
     "output_type": "stream",
     "text": [
      "+-------------+----------+-------------------+----------+----------+----------+\n",
      "|         user|      구현|브루트포스 알고리즘|    문자열| 자료 구조|      수학|\n",
      "+-------------+----------+-------------------+----------+----------+----------+\n",
      "|      1223hyo|0.51428574|                0.0|       0.0|       0.0|       0.5|\n",
      "|      1998phy|      0.75|                0.5|       0.5|      0.25|0.45454547|\n",
      "|     1dilumn0| 0.5652174|         0.37209302|0.39130434|0.39215687|       0.6|\n",
      "|      1x2x257|       0.0|                0.0|       0.0|       0.0| 0.8333333|\n",
      "|     20201785|0.71428573|                1.0|       0.0|       0.0|       0.5|\n",
      "|      2david2|0.80487806|                0.0|0.54545456|       0.0|0.61764705|\n",
      "|4vm89092n7890|       1.0|                0.0|       1.0|       0.0|       1.0|\n",
      "|      5gkfka5| 0.8333333|         0.33333334|       0.0|0.26666668|       0.6|\n",
      "|       aa4060|0.33333334|                0.0|       0.0|       0.0|       0.3|\n",
      "|   aaabbb4202|       0.0|                0.0|       0.0|       0.0|       0.0|\n",
      "|     ahyoon97|0.66935486|          0.6666667|0.71428573| 0.7647059| 0.7128713|\n",
      "|       alenjb|       0.0|                1.0|       0.0|       0.0|       0.0|\n",
      "|      alska95|0.71929824|          0.8333333|0.88235295|       1.0|0.84615386|\n",
      "|    alss00105|       0.5|                0.0|       0.5|     0.125|       0.5|\n",
      "|  anjunho0922| 0.7368421|                0.5|       0.6|       0.0|   0.53125|\n",
      "|      anothel|0.70341206|         0.41379312| 0.5535714|       0.5| 0.6506024|\n",
      "|  anstjdrnjs3| 0.6351351|         0.56962025| 0.4074074|0.46153846| 0.6865672|\n",
      "|    aoyujeong|0.30952382|                0.0|       0.0|       0.0|     0.275|\n",
      "|    apple8632|       1.0|                0.0|      0.25|       0.0|       0.0|\n",
      "|       asdf28|       0.0|                0.0|       1.0|       0.0|       0.0|\n",
      "+-------------+----------+-------------------+----------+----------+----------+\n",
      "only showing top 20 rows\n",
      "\n"
     ]
    }
   ],
   "source": [
    "line_merged_df = user_grouped_df.select(\"user\", line_rate_udf(F.col(\"collect_list(type)\"), F.col(\"collect_list(correct_rate)\")).alias(\"merged\"))\n",
    "user_line_df = line_merged_df.withColumn(\"구현\", F.col(\"merged\")[0]) \\\n",
    "    .withColumn(\"브루트포스 알고리즘\", F.col(\"merged\")[1]) \\\n",
    "    .withColumn(\"문자열\", F.col(\"merged\")[2]) \\\n",
    "    .withColumn(\"자료 구조\", F.col(\"merged\")[3]) \\\n",
    "    .withColumn(\"수학\", F.col(\"merged\")[4]).drop(\"merged\")\n",
    "user_line_df.show()"
   ]
  },
  {
   "cell_type": "code",
   "execution_count": 235,
   "id": "6546c25d",
   "metadata": {},
   "outputs": [],
   "source": [
    "id_line_df = user_line_df.withColumn(\"id\", F.monotonically_increasing_id())"
   ]
  },
  {
   "cell_type": "markdown",
   "id": "e9493bd4",
   "metadata": {},
   "source": [
    "## Dimensionality Reduction using Truncated Singlular Value Decomposition (5D->2D)"
   ]
  },
  {
   "cell_type": "code",
   "execution_count": 371,
   "id": "ce53c374",
   "metadata": {},
   "outputs": [],
   "source": [
    "from pyspark.mllib.linalg import Vectors\n",
    "from pyspark.mllib.linalg.distributed import RowMatrix, DenseMatrix\n",
    "from pyspark.ml.feature import VectorAssembler\n",
    "\n",
    "\n",
    "vecAssembler = VectorAssembler(inputCols=user_line_df.drop(\"user\").columns, outputCol=\"features\")\n",
    "vector_df = vecAssembler.transform(user_line_df.drop(\"user\")).select(\"features\")\n"
   ]
  },
  {
   "cell_type": "code",
   "execution_count": 372,
   "id": "44e38485",
   "metadata": {},
   "outputs": [],
   "source": [
    "temp_rdd = vector_df.rdd.map(lambda x: Vectors.fromML(x[0]))"
   ]
  },
  {
   "cell_type": "code",
   "execution_count": 180,
   "id": "f1eb315b",
   "metadata": {},
   "outputs": [
    {
     "data": {
      "text/plain": [
       "[SparseVector(5, {0: 0.5143, 4: 0.5})]"
      ]
     },
     "execution_count": 180,
     "metadata": {},
     "output_type": "execute_result"
    }
   ],
   "source": []
  },
  {
   "cell_type": "code",
   "execution_count": 198,
   "id": "60695d8d",
   "metadata": {},
   "outputs": [
    {
     "data": {
      "text/plain": [
       "array([[268.96617001,   0.        ],\n",
       "       [  0.        , 102.67310255]])"
      ]
     },
     "execution_count": 198,
     "metadata": {},
     "output_type": "execute_result"
    }
   ],
   "source": [
    "d_s = DenseMatrix(2, 2, [s[0],0, 0, s[1]])\n",
    "d_s.toArray()"
   ]
  },
  {
   "cell_type": "code",
   "execution_count": 373,
   "id": "114a83ae",
   "metadata": {},
   "outputs": [],
   "source": [
    "mat = RowMatrix(temp_rdd)\n",
    "svd = mat.computeSVD(2, computeU=True)"
   ]
  },
  {
   "cell_type": "code",
   "execution_count": 374,
   "id": "d2e97cf3",
   "metadata": {},
   "outputs": [],
   "source": [
    "U = svd.U       # Left Singular Vector\n",
    "s = svd.s       # 2 Singular value\n",
    "V = svd.V       # Right Singular Vector"
   ]
  },
  {
   "cell_type": "code",
   "execution_count": 214,
   "id": "f27f1e05",
   "metadata": {},
   "outputs": [
    {
     "name": "stdout",
     "output_type": "stream",
     "text": [
      "+------------------------------------------------------------------------------------------------------+\n",
      "|_1                                                                                                    |\n",
      "+------------------------------------------------------------------------------------------------------+\n",
      "|[0.20832575138265413,0.14339042364017968,0.489095439865067,0.12014089951127452,0.3963622498010033]    |\n",
      "|[0.7170243438631013,0.48431948466957897,0.5834978722106566,0.6711824851995538,0.3854246636150449]     |\n",
      "|[0.647932654120519,0.43790472237033834,0.5575826072353385,0.599407217854156,0.37525834410582537]      |\n",
      "|[0.15852300460627455,0.10931316995788444,0.3962927085971556,0.08576877395744298,0.32307269120172144]  |\n",
      "|[0.6436388145118086,0.43509827146204627,0.5652997061528932,0.5927613707396348,0.3829272028227005]     |\n",
      "|[0.5159870036652984,0.3509279725751773,0.7066662998174226,0.41581574461203963,0.5325547104889388]     |\n",
      "|[0.8161009431987407,0.554054923896127,1.0001945443537184,0.6851920530585106,0.7377501969982616]       |\n",
      "|[0.49941740400353,0.33961360047116423,0.6785718442272441,0.403728363644264,0.5106461356347916]        |\n",
      "|[0.13044639671848396,0.08978030167612772,0.3055578486709909,0.07539133694271664,0.24756824804700678]  |\n",
      "|[0.0,0.0,0.0,0.0,0.0]                                                                                 |\n",
      "|[1.038396415847395,0.6998262043724022,0.6579039590085523,1.0158453499927944,0.39165596096109073]      |\n",
      "|[0.3912862002063102,0.26145131573342595,-0.021531203677297883,0.4459117278033408,-0.09219228302876056]|\n",
      "|[1.2711564830568804,0.8561652201896115,0.7421375342084978,1.2583655267204081,0.42317173179250916]     |\n",
      "|[0.44152242019844884,0.299381578147216,0.4969036807423425,0.3810575060172604,0.3597857473293843]      |\n",
      "|[0.7023491702803865,0.4748421194981015,0.6235286131236708,0.645269585643532,0.4237870074176463]       |\n",
      "|[0.7990125209982958,0.5397085945523421,0.6513622183160833,0.7476608025831696,0.430514336103076]       |\n",
      "|[0.7821934287899339,0.5282625836017087,0.6274704985264615,0.734307721242224,0.4123923357579659]       |\n",
      "|[0.12044941212796581,0.08289893761156883,0.2820338892992711,0.06963866073667835,0.22850020333450122]  |\n",
      "|[0.32156907908539534,0.2191817812993125,0.49766885488957324,0.24572517427762153,0.3828553923710849]   |\n",
      "|[0.4057390054005816,0.27159644735983757,0.03596590374604372,0.4487257967707908,-0.04372324541076422]  |\n",
      "+------------------------------------------------------------------------------------------------------+\n",
      "only showing top 20 rows\n",
      "\n"
     ]
    }
   ],
   "source": [
    "truncated_user = U.multiply(d_s).multiply(V_t)\n",
    "truncated_user.rows.map(lambda x: (x, )).toDF().show(truncate=False)"
   ]
  },
  {
   "cell_type": "code",
   "execution_count": 375,
   "id": "0ce352c0",
   "metadata": {},
   "outputs": [
    {
     "data": {
      "text/plain": [
       "array([[-0.59649676, -0.34390417, -0.40351857, -0.22664717, -0.55832371],\n",
       "       [ 0.39451121, -0.54128007, -0.47990545, -0.38551811,  0.41526297]])"
      ]
     },
     "execution_count": 375,
     "metadata": {},
     "output_type": "execute_result"
    }
   ],
   "source": [
    "import numpy as np\n",
    "v = V.toArray()\n",
    "v_t = np.transpose(v)\n",
    "v_t"
   ]
  },
  {
   "cell_type": "code",
   "execution_count": 400,
   "id": "1e20d136",
   "metadata": {},
   "outputs": [
    {
     "data": {
      "text/plain": [
       "{'company': 'kakao',\n",
       " 'top1_reflected': 'score2',\n",
       " 'top2_reflected': 'score1',\n",
       " 'top3_reflected': 'score1',\n",
       " 'top4_reflected': 'score1',\n",
       " 'top5_reflected': 'score2'}"
      ]
     },
     "execution_count": 400,
     "metadata": {},
     "output_type": "execute_result"
    }
   ],
   "source": []
  },
  {
   "cell_type": "code",
   "execution_count": 239,
   "id": "cf3fce7d",
   "metadata": {},
   "outputs": [],
   "source": [
    "truncated_score_df = U.rows.map(lambda x: {\"score1\": float(x[0]), \"score2\": float(x[1])}).toDF().withColumn(\"id\", F.monotonically_increasing_id())"
   ]
  },
  {
   "cell_type": "code",
   "execution_count": 243,
   "id": "3be6dbca",
   "metadata": {},
   "outputs": [
    {
     "data": {
      "text/plain": [
       "DataFrame[id: bigint, user: string, 구현: float, 브루트포스 알고리즘: float, 문자열: float, 자료 구조: float, 수학: float, score1: double, score2: double]"
      ]
     },
     "execution_count": 243,
     "metadata": {},
     "output_type": "execute_result"
    }
   ],
   "source": [
    "line_scored_df = id_line_df.join(truncated_score_df, \"id\")\n",
    "line_scored_df.persist()"
   ]
  },
  {
   "cell_type": "code",
   "execution_count": 251,
   "id": "6d5796e4",
   "metadata": {},
   "outputs": [
    {
     "name": "stdout",
     "output_type": "stream",
     "text": [
      "+---+----+----+-------------------+------+---------+----+------+------+\n",
      "| id|user|구현|브루트포스 알고리즘|문자열|자료 구조|수학|score1|score2|\n",
      "+---+----+----+-------------------+------+---------+----+------+------+\n",
      "+---+----+----+-------------------+------+---------+----+------+------+\n",
      "\n"
     ]
    }
   ],
   "source": []
  },
  {
   "cell_type": "code",
   "execution_count": 275,
   "id": "abd16908",
   "metadata": {},
   "outputs": [
    {
     "name": "stdout",
     "output_type": "stream",
     "text": [
      "+------------------------+------------------------+\n",
      "|vectored_score1         |vectored_score2         |\n",
      "+------------------------+------------------------+\n",
      "|[-0.0041346723130510875]|[-1.8365840019368479E-4]|\n",
      "|[-0.004060063896791902] |[-4.608305899533307E-4] |\n",
      "|[-0.004966066530773475] |[-9.107137065034617E-4] |\n",
      "|[0.0]                   |[0.0]                   |\n",
      "|[-0.0026479857131488493]|[0.004824286092871272]  |\n",
      "|[-0.003262813488919546] |[0.005989079767576516]  |\n",
      "|[-0.0035749415369504337]|[0.0065604114561784305] |\n",
      "|[-0.003624507813647184] |[0.004064016054085769]  |\n",
      "|[-0.005084874603735277] |[-0.003433330878991991] |\n",
      "|[-0.005174017866012666] |[-0.002254957141646251] |\n",
      "|[-0.0027476094724805432]|[-0.002374309207926329] |\n",
      "|[-0.004579690613519058] |[-0.00646267549415642]  |\n",
      "|[-4.213302514601373E-4] |[-0.0018774055812634466]|\n",
      "|[-0.005794718708255582] |[-0.003789692603424755] |\n",
      "|[-0.002961216920804809] |[0.005450540478021024]  |\n",
      "|[-0.0032556459071363046]|[0.005864658676621545]  |\n",
      "|[-0.004406703908090543] |[-0.005842506845918051] |\n",
      "|[-0.004586506118659258] |[9.073049415586768E-4]  |\n",
      "|[-0.004112377801116152] |[-0.002005832029603701] |\n",
      "|[-0.002043938058052695] |[0.0037534932487382254] |\n",
      "+------------------------+------------------------+\n",
      "only showing top 20 rows\n",
      "\n"
     ]
    }
   ],
   "source": [
    "from pyspark.ml.feature import StandardScaler\n",
    "assembler_1 = VectorAssembler(inputCols=[\"score1\"],outputCol=\"vectored_score1\")\n",
    "vectored_df_1 = assembler_1.transform(line_scored_df)\n",
    "assembler_2 = VectorAssembler(inputCols=[\"score2\"],outputCol=\"vectored_score2\")\n",
    "vectored_df = assembler_2.transform(vectored_df_1)\n",
    "vectored_df.select(\"vectored_score1\", \"vectored_score2\").show(truncate=False)\n"
   ]
  },
  {
   "cell_type": "code",
   "execution_count": 316,
   "id": "a6044101",
   "metadata": {},
   "outputs": [
    {
     "name": "stdout",
     "output_type": "stream",
     "text": [
      "+-------+--------------------+\n",
      "|summary|scaled_score1       |\n",
      "+-------+--------------------+\n",
      "|count  |64337               |\n",
      "|mean   |2.687631130613707E-9|\n",
      "|stddev |1.0000000081159095  |\n",
      "|min    |-2.6177993          |\n",
      "|max    |2.1589222           |\n",
      "+-------+--------------------+\n",
      "\n"
     ]
    }
   ],
   "source": [
    "scaler_1 = StandardScaler(inputCol=\"vectored_score1\", outputCol=\"scaled_score1\",\n",
    "                        withStd=True, withMean=True)\n",
    "\n",
    "# Compute summary statistics by fitting the StandardScaler\n",
    "scale_model_1 = scaler_1.fit(vectored_df)\n",
    "\n",
    "# Normalize each feature to have unit standard deviation.\n",
    "scaled_1 = scale_model_1.transform(vectored_df)\n",
    "\n",
    "\n",
    "scaled_1.withColumn(\"scaled_score1\", extract_udf(F.col(\"scaled_score1\"))).select(\"scaled_score1\").describe().show(truncate=False)"
   ]
  },
  {
   "cell_type": "code",
   "execution_count": 317,
   "id": "e0aa9e32",
   "metadata": {},
   "outputs": [
    {
     "name": "stdout",
     "output_type": "stream",
     "text": [
      "+-------+--------------------+----------------------+\n",
      "|summary|scaled_score1       |scaled_score2         |\n",
      "+-------+--------------------+----------------------+\n",
      "|count  |64337               |64337                 |\n",
      "|mean   |2.687631130613707E-9|-8.237840748820714E-10|\n",
      "|stddev |1.00000000811591    |0.9999999997615333    |\n",
      "|min    |-2.6177993          |-3.6584785            |\n",
      "|max    |2.1589222           |1.8754575             |\n",
      "+-------+--------------------+----------------------+\n",
      "\n"
     ]
    }
   ],
   "source": [
    "scaler_2 = StandardScaler(inputCol=\"vectored_score2\", outputCol=\"scaled_score2\",\n",
    "                        withStd=True, withMean=True)\n",
    "\n",
    "# Compute summary statistics by fitting the StandardScaler\n",
    "scale_model_2 = scaler_2.fit(scaled_1)\n",
    "\n",
    "# Normalize each feature to have unit standard deviation.\n",
    "scaled_df = scale_model_2.transform(scaled_1)\n",
    "\n",
    "scaled_df.withColumn(\"scaled_score1\", extract_udf(F.col(\"scaled_score1\"))) \\\n",
    "    .withColumn(\"scaled_score2\", extract_udf(F.col(\"scaled_score2\"))) \\\n",
    "    .select(\"scaled_score1\", \"scaled_score2\").describe().show(truncate=False)"
   ]
  },
  {
   "cell_type": "code",
   "execution_count": 318,
   "id": "caad6232",
   "metadata": {},
   "outputs": [
    {
     "name": "stdout",
     "output_type": "stream",
     "text": [
      "+-------+--------------------+----------------------+\n",
      "|summary|scaled_score1       |scaled_score2         |\n",
      "+-------+--------------------+----------------------+\n",
      "|count  |64337               |64337                 |\n",
      "|mean   |2.687631130613707E-9|-8.237840748820714E-10|\n",
      "|stddev |1.0000000081159095  |0.9999999997615333    |\n",
      "|min    |-2.6177993          |-3.6584785            |\n",
      "|max    |2.1589222           |1.8754575             |\n",
      "+-------+--------------------+----------------------+\n",
      "\n"
     ]
    }
   ],
   "source": [
    "extract_udf = F.udf(lambda x: x.tolist()[0], FloatType())\n",
    "stat_df = scaled_df.withColumn(\"scaled_score1\", extract_udf(F.col(\"scaled_score1\"))) \\\n",
    "    .withColumn(\"scaled_score2\", extract_udf(F.col(\"scaled_score2\"))) \\\n",
    "    .select(\"user\", \"scaled_score1\", \"scaled_score2\")\n",
    "stat_df.select(\"scaled_score1\", \"scaled_score2\").describe().show(truncate=False)"
   ]
  },
  {
   "cell_type": "code",
   "execution_count": 329,
   "id": "91205392",
   "metadata": {
    "scrolled": true
   },
   "outputs": [
    {
     "name": "stdout",
     "output_type": "stream",
     "text": [
      "+-------+--------------------+\n",
      "|summary|Z                   |\n",
      "+-------+--------------------+\n",
      "|count  |64337               |\n",
      "|mean   |4.713122354412475E-9|\n",
      "|stddev |1.6222895088638696  |\n",
      "|min    |-4.254494           |\n",
      "|max    |2.0125961           |\n",
      "+-------+--------------------+\n",
      "\n"
     ]
    }
   ],
   "source": [
    "test_df = stat_df.withColumn(\"Z\", F.col(\"scaled_score1\") + F.col(\"scaled_score2\")).select(\"Z\").describe().show(truncate=False)"
   ]
  },
  {
   "cell_type": "code",
   "execution_count": 333,
   "id": "a6562a8a",
   "metadata": {},
   "outputs": [
    {
     "name": "stdout",
     "output_type": "stream",
     "text": [
      "+-------------+-------------+-------------+-----------+-----------+\n",
      "|         user|scaled_score1|scaled_score2|   inferior|   superior|\n",
      "+-------------+-------------+-------------+-----------+-----------+\n",
      "|    beth_shan|  -0.33633533|  -0.19340631| 0.35398498| 0.64601505|\n",
      "|    black_203|  -0.29130945|  -0.26445845| 0.34716445| 0.65283555|\n",
      "|  dongkum0417|  -0.83807826|   -0.3797844| 0.19457525| 0.80542475|\n",
      "|bokunoeiyuu20|    2.1589222|  -0.14632612|  0.9226494| 0.07735062|\n",
      "|     ty0603ty|    0.5608738|    1.0903629|  0.8785161| 0.12148392|\n",
      "|     dozinguy|   0.18982783|    1.3889537| 0.86786747| 0.13213253|\n",
      "|      dntlr03| 0.0014598591|    1.5354125| 0.86142254| 0.13857746|\n",
      "|       ech913| -0.028453182|   0.89547026|  0.7300862|  0.2699138|\n",
      "|      byj9402|   -0.9097784|   -1.0264486|   0.085481|   0.914519|\n",
      "|       tjaeld|    -0.963576|  -0.72437656| 0.11632454| 0.88367546|\n",
      "|       esfjge|    0.5007513|  -0.75497204| 0.42867002| 0.57132995|\n",
      "|  jiholee0627|    -0.604902|   -1.8030106|0.044316668| 0.95568335|\n",
      "|      zeromin|     1.904651|   -0.6275925|  0.8167415| 0.18325847|\n",
      "|      jyo_ong|   -1.3381664|   -1.1178006| 0.04122617| 0.95877385|\n",
      "|    1wnstmddl|    0.3718401|     1.250901|  0.8744024|  0.1255976|\n",
      "|     nick1671|   0.19415344|    1.3570588| 0.86365145| 0.13634855|\n",
      "|     tmdtjq32|  -0.50050527|   -1.6440325| 0.06470695|  0.9352931|\n",
      "|       101104|   -0.6090151|  0.086258344| 0.35582358|  0.6441764|\n",
      "|       arpaap|   -0.3228807|   -0.6605142| 0.24341324|  0.7565868|\n",
      "| gusqls060303|     0.925414|   0.81586885|  0.8908896|0.109110415|\n",
      "+-------------+-------------+-------------+-----------+-----------+\n",
      "only showing top 20 rows\n",
      "\n"
     ]
    }
   ],
   "source": [
    "from scipy.stats import norm\n",
    "square_root_two = 2 ** (1/2)\n",
    "inferior_cdf_udf = F.udf(lambda x, y: norm.cdf((x+y) / square_root_two).tolist(), FloatType())\n",
    "inferior_cdf_df =stat_df.withColumn(\"inferior\", inferior_cdf_udf(F.col(\"scaled_score1\"), F.col(\"scaled_score2\"))) \\\n",
    "    .withColumn(\"superior\", F.lit(1) - F.col(\"inferior\"))\n",
    "inferior_cdf_df.show()"
   ]
  },
  {
   "cell_type": "code",
   "execution_count": 334,
   "id": "def0c31f",
   "metadata": {},
   "outputs": [],
   "source": [
    "selection_ratio = {\"line\": 0.25, \"kakao\": 0.15, \"samsung\": 0.15, \"naver\": 0.15, \"coupang\": 0.20}"
   ]
  },
  {
   "cell_type": "code",
   "execution_count": 342,
   "id": "e439dd5b",
   "metadata": {},
   "outputs": [
    {
     "name": "stdout",
     "output_type": "stream",
     "text": [
      "+-------------+-------------+-------------+-----------+-----------+---------------------------+\n",
      "|         user|scaled_score1|scaled_score2|   inferior|   superior|acceptance_probability_line|\n",
      "+-------------+-------------+-------------+-----------+-----------+---------------------------+\n",
      "|    beth_shan|  -0.33633533|  -0.19340631| 0.35398498| 0.64601505|              7.9419286E-16|\n",
      "|    black_203|  -0.29130945|  -0.26445845| 0.34716445| 0.65283555|              2.3850674E-16|\n",
      "|  dongkum0417|  -0.83807826|   -0.3797844| 0.19457525| 0.80542475|              5.6589176E-33|\n",
      "|bokunoeiyuu20|    2.1589222|  -0.14632612|  0.9226494| 0.07735062|                        1.0|\n",
      "|     ty0603ty|    0.5608738|    1.0903629|  0.8785161| 0.12148392|                 0.99987984|\n",
      "|     dozinguy|   0.18982783|    1.3889537| 0.86786747| 0.13213253|                   0.999541|\n",
      "|      dntlr03| 0.0014598591|    1.5354125| 0.86142254| 0.13857746|                  0.9990533|\n",
      "|       ech913| -0.028453182|   0.89547026|  0.7300862|  0.2699138|                 0.37440872|\n",
      "|      byj9402|   -0.9097784|   -1.0264486|   0.085481|   0.914519|                        0.0|\n",
      "|       tjaeld|    -0.963576|  -0.72437656| 0.11632454| 0.88367546|                        0.0|\n",
      "|       esfjge|    0.5007513|  -0.75497204| 0.42867002| 0.57132995|               6.869569E-11|\n",
      "|  jiholee0627|    -0.604902|   -1.8030106|0.044316668| 0.95568335|                        0.0|\n",
      "|      zeromin|     1.904651|   -0.6275925|  0.8167415| 0.18325847|                  0.9640396|\n",
      "|      jyo_ong|   -1.3381664|   -1.1178006| 0.04122617| 0.95877385|                        0.0|\n",
      "|    1wnstmddl|    0.3718401|     1.250901|  0.8744024|  0.1255976|                  0.9997937|\n",
      "|     nick1671|   0.19415344|    1.3570588| 0.86365145| 0.13634855|                 0.99925786|\n",
      "|     tmdtjq32|  -0.50050527|   -1.6440325| 0.06470695|  0.9352931|                        0.0|\n",
      "|       101104|   -0.6090151|  0.086258344| 0.35582358|  0.6441764|              1.0926284E-15|\n",
      "|       arpaap|   -0.3228807|   -0.6605142| 0.24341324|  0.7565868|              2.4004674E-26|\n",
      "| gusqls060303|     0.925414|   0.81586885|  0.8908896|0.109110415|                 0.99998057|\n",
      "+-------------+-------------+-------------+-----------+-----------+---------------------------+\n",
      "only showing top 20 rows\n",
      "\n"
     ]
    }
   ],
   "source": [
    "import scipy.special\n",
    "\n",
    "\n",
    "def sum_binomial_pdf(p, inverse_k_min, n=100):\n",
    "    k_min = int(n* (1-inverse_k_min))\n",
    "    probability = 0.0\n",
    "    for k in range(k_min, n+1):\n",
    "        probability += scipy.special.comb(n, k).tolist() * (p ** k) * ((1-p) ** (n-k))\n",
    "    return probability\n",
    "\n",
    "sum_binomial_pdf_udf = F.udf(sum_binomial_pdf, FloatType())\n",
    "inferior_cdf_df.withColumn(\"acceptance_probability_line\", sum_binomial_pdf_udf(F.col(\"inferior\"), F.lit(selection_ratio[\"line\"]))).show()"
   ]
  },
  {
   "cell_type": "markdown",
   "id": "cb617f37",
   "metadata": {},
   "source": [
    "##### naver"
   ]
  },
  {
   "cell_type": "code",
   "execution_count": 363,
   "id": "6bc187ba",
   "metadata": {},
   "outputs": [],
   "source": [
    "def top5_rate(type_list, rate_list, company):\n",
    "    _enter_top5 = {\"line\": [\"구현\", \"브루트포스 알고리즘\", \"문자열\", \"자료 구조\", \"수학\"],\n",
    "             \"kakao\": [\"구현\", \"문자열\", \"브루트포스 알고리즘\", \"그래프 이론\", \"너비 우선 탐색\"],\n",
    "             \"naver\": [\"구현\", \"자료 구조\", \"문자열\", \"브루트포스 알고리즘\", \"수학\"],\n",
    "             \"samsung\": [\"구현\", \"시뮬레이션\", \"브루트포스 알고리즘\", \"그래프 이론\", \"너비 우선 탐색\"],\n",
    "             \"coupang\": [\"문자열\", \"구현\", \"자료 구조\", \"수학\", \"그래프 탐색\"]}\n",
    "    top5 = _enter_top5[company]\n",
    "    ret = []\n",
    "    for _type in top5:\n",
    "        if _type in type_list:\n",
    "            ret.append(rate_list[type_list.index(_type)])\n",
    "        else:\n",
    "            ret.append(0.0)\n",
    "    return ret\n",
    "\n",
    "top5_rate_udf = F.udf(top5_rate, ArrayType(FloatType()))\n",
    "\n"
   ]
  },
  {
   "cell_type": "code",
   "execution_count": 364,
   "id": "b031df45",
   "metadata": {},
   "outputs": [],
   "source": [
    "enter_top5 = {\"line\": [\"구현\", \"브루트포스 알고리즘\", \"문자열\", \"자료 구조\", \"수학\"],\n",
    "             \"kakao\": [\"구현\", \"문자열\", \"브루트포스 알고리즘\", \"그래프 이론\", \"너비 우선 탐색\"],\n",
    "             \"naver\": [\"구현\", \"자료 구조\", \"문자열\", \"브루트포스 알고리즘\", \"수학\"],\n",
    "             \"samsung\": [\"구현\", \"시뮬레이션\", \"브루트포스 알고리즘\", \"그래프 이론\", \"너비 우선 탐색\"],\n",
    "             \"coupang\": [\"문자열\", \"구현\", \"자료 구조\", \"수학\", \"그래프 탐색\"]}"
   ]
  },
  {
   "cell_type": "code",
   "execution_count": 350,
   "id": "034b4584",
   "metadata": {},
   "outputs": [
    {
     "name": "stdout",
     "output_type": "stream",
     "text": [
      "+-------------+----------+----------+----------+-------------------+----------+\n",
      "|         user|      구현| 자료 구조|    문자열|브루트포스 알고리즘|      수학|\n",
      "+-------------+----------+----------+----------+-------------------+----------+\n",
      "|      1223hyo|0.51428574|       0.0|       0.0|                0.0|       0.5|\n",
      "|      1998phy|      0.75|      0.25|       0.5|                0.5|0.45454547|\n",
      "|     1dilumn0| 0.5652174|0.39215687|0.39130434|         0.37209302|       0.6|\n",
      "|      1x2x257|       0.0|       0.0|       0.0|                0.0| 0.8333333|\n",
      "|     20201785|0.71428573|       0.0|       0.0|                1.0|       0.5|\n",
      "|      2david2|0.80487806|       0.0|0.54545456|                0.0|0.61764705|\n",
      "|4vm89092n7890|       1.0|       0.0|       1.0|                0.0|       1.0|\n",
      "|      5gkfka5| 0.8333333|0.26666668|       0.0|         0.33333334|       0.6|\n",
      "|       aa4060|0.33333334|       0.0|       0.0|                0.0|       0.3|\n",
      "|   aaabbb4202|       0.0|       0.0|       0.0|                0.0|       0.0|\n",
      "|     ahyoon97|0.66935486| 0.7647059|0.71428573|          0.6666667| 0.7128713|\n",
      "|       alenjb|       0.0|       0.0|       0.0|                1.0|       0.0|\n",
      "|      alska95|0.71929824|       1.0|0.88235295|          0.8333333|0.84615386|\n",
      "|    alss00105|       0.5|     0.125|       0.5|                0.0|       0.5|\n",
      "|  anjunho0922| 0.7368421|       0.0|       0.6|                0.5|   0.53125|\n",
      "|      anothel|0.70341206|       0.5| 0.5535714|         0.41379312| 0.6506024|\n",
      "|  anstjdrnjs3| 0.6351351|0.46153846| 0.4074074|         0.56962025| 0.6865672|\n",
      "|    aoyujeong|0.30952382|       0.0|       0.0|                0.0|     0.275|\n",
      "|    apple8632|       1.0|       0.0|      0.25|                0.0|       0.0|\n",
      "|       asdf28|       0.0|       0.0|       1.0|                0.0|       0.0|\n",
      "+-------------+----------+----------+----------+-------------------+----------+\n",
      "only showing top 20 rows\n",
      "\n"
     ]
    }
   ],
   "source": [
    "naver_merged_df = user_grouped_df.select(\"user\", top5_rate_udf(F.col(\"collect_list(type)\"), F.col(\"collect_list(correct_rate)\"), F.lit(\"naver\")).alias(\"merged\"))\n",
    "user_company_df = naver_merged_df.withColumn(\"구현\", F.col(\"merged\")[0]) \\\n",
    "    .withColumn(\"자료 구조\", F.col(\"merged\")[1]) \\\n",
    "    .withColumn(\"문자열\", F.col(\"merged\")[2]) \\\n",
    "    .withColumn(\"브루트포스 알고리즘\", F.col(\"merged\")[3]) \\\n",
    "    .withColumn(\"수학\", F.col(\"merged\")[4]).drop(\"merged\")\n",
    "user_company_df.show()"
   ]
  },
  {
   "cell_type": "code",
   "execution_count": 365,
   "id": "2ae70b44",
   "metadata": {},
   "outputs": [],
   "source": [
    "def sum_binomial_pdf(p, inverse_k_min, n=100):\n",
    "    k_min = int(n* (1-inverse_k_min))\n",
    "    probability = 0.0\n",
    "    for k in range(k_min, n+1):\n",
    "        probability += scipy.special.comb(n, k).tolist() * (p ** k) * ((1-p) ** (n-k))\n",
    "    return probability"
   ]
  },
  {
   "cell_type": "code",
   "execution_count": 343,
   "id": "fa4932a1",
   "metadata": {},
   "outputs": [],
   "source": [
    "enter_top5 = {\"line\": [\"구현\", \"브루트포스 알고리즘\", \"문자열\", \"자료 구조\", \"수학\"],\n",
    "             \"kakao\": [\"구현\", \"문자열\", \"브루트포스 알고리즘\", \"그래프 이론\", \"너비 우선 탐색\"],\n",
    "             \"naver\": [\"구현\", \"자료 구조\", \"문자열\", \"브루트포스 알고리즘\", \"수학\"],\n",
    "             \"samsung\": [\"구현\", \"시뮬레이션\", \"브루트포스 알고리즘\", \"그래프 이론\", \"너비 우선 탐색\"],\n",
    "             \"coupang\": [\"문자열\", \"구현\", \"자료 구조\", \"수학\", \"그래프 탐색\"]}"
   ]
  },
  {
   "cell_type": "code",
   "execution_count": 401,
   "id": "85106d7c",
   "metadata": {},
   "outputs": [
    {
     "name": "stdout",
     "output_type": "stream",
     "text": [
      "+------------------------+------------------------+\n",
      "|vectored_score1         |vectored_score2         |\n",
      "+------------------------+------------------------+\n",
      "|[-0.0035887385268536264]|[-0.0025593632858757123]|\n",
      "|[-0.00428906618563641]  |[0.0020484613686669925] |\n",
      "|[-0.004924166576810392] |[0.002444949056315185]  |\n",
      "|[-6.954213347464919E-4] |[0.0044464346402928664] |\n",
      "|[-0.0029065771211567847]|[-0.00430643288685729]  |\n",
      "|[-0.0035815806314026173]|[-0.00535851620928214]  |\n",
      "|[-0.003924197859702294] |[-0.00586925753322917]  |\n",
      "|[-0.0035106191450101094]|[-0.005194891527702011] |\n",
      "|[-0.004884971083929833] |[0.0036871313945320387] |\n",
      "|[-0.00425423822089985]  |[-0.0020514451855493175]|\n",
      "|[-0.0029769885817560416]|[0.0032843399054585092] |\n",
      "|[-0.0041839372399306]   |[0.005948632076419788]  |\n",
      "|[-4.5561539882101515E-4]|[0.0027016668409451865] |\n",
      "|[-0.006208517572535631] |[0.007185597708438865]  |\n",
      "|[-0.003250564223506256] |[-0.00488080132175779]  |\n",
      "|[-0.003573378487769576] |[-0.005216723113859914] |\n",
      "|[-0.004371539180165136] |[0.006941635914126882]  |\n",
      "|[-0.00432680614551832]  |[-0.001111572169929998] |\n",
      "|[-0.0036510823241791153]|[1.9847962272905636E-4] |\n",
      "|[-0.0022436299017894092]|[-0.003358778073868664] |\n",
      "+------------------------+------------------------+\n",
      "only showing top 20 rows\n",
      "\n",
      "+------------------------+------------------------+\n",
      "|vectored_score1         |vectored_score2         |\n",
      "+------------------------+------------------------+\n",
      "|[-0.0041346723130510875]|[-1.8365840019368305E-4]|\n",
      "|[-0.004060063896791902] |[-4.60830589953332E-4]  |\n",
      "|[-0.0049660665307734745]|[-9.107137065034608E-4] |\n",
      "|[0.0]                   |[0.0]                   |\n",
      "|[-0.0026479857131488493]|[0.004824286092871272]  |\n",
      "|[-0.003262813488919546] |[0.005989079767576516]  |\n",
      "|[-0.0035749415369504337]|[0.00656041145617843]   |\n",
      "|[-0.003624507813647184] |[0.00406401605408577]   |\n",
      "|[-0.005084874603735277] |[-0.0034333308789919895]|\n",
      "|[-0.005174017866012666] |[-0.0022549571416462465]|\n",
      "|[-0.0027476094724805432]|[-0.0023743092079263296]|\n",
      "|[-0.004579690613519057] |[-0.00646267549415642]  |\n",
      "|[-4.213302514601372E-4] |[-0.0018774055812634481]|\n",
      "|[-0.005794718708255582] |[-0.0037896926034247567]|\n",
      "|[-0.002961216920804809] |[0.005450540478021024]  |\n",
      "|[-0.0032556459071363046]|[0.005864658676621544]  |\n",
      "|[-0.004406703908090543] |[-0.00584250684591805]  |\n",
      "|[-0.004586506118659258] |[9.073049415586811E-4]  |\n",
      "|[-0.004112377801116152] |[-0.0020058320296036996]|\n",
      "|[-0.002043938058052695] |[0.0037534932487382246] |\n",
      "+------------------------+------------------------+\n",
      "only showing top 20 rows\n",
      "\n",
      "+------------------------+------------------------+\n",
      "|vectored_score1         |vectored_score2         |\n",
      "+------------------------+------------------------+\n",
      "|[-0.0039083926771137974]|[0.0017340270762366045] |\n",
      "|[-0.004363546844197429] |[-2.1780268437479947E-4]|\n",
      "|[-0.005651120502023528] |[-0.007691639254819058] |\n",
      "|[-0.0020652647501887868]|[-0.010961076580242968] |\n",
      "|[-0.002068797094681964] |[0.0038567863674375522] |\n",
      "|[-0.002273403480116862] |[0.004238226925365878]  |\n",
      "|[-0.0025007438105128454]|[0.004662049585062125]  |\n",
      "|[-0.003163149489006411] |[0.0038599089285335565] |\n",
      "|[-0.00579860701126062]  |[-0.004480330425788886] |\n",
      "|[-0.005265691312407171] |[0.001447204816741186]  |\n",
      "|[-0.0029681119089506524]|[0.001468374004492216]  |\n",
      "|[-0.0040441830855312295]|[0.001201878696522341]  |\n",
      "|[0.0]                   |[0.0]                   |\n",
      "|[-0.005824314577457936] |[-0.0026987679018040736]|\n",
      "|[-0.0019702830395888836]|[0.0036731300457708825] |\n",
      "|[-0.002955424471304813] |[0.00550969490445462]   |\n",
      "|[-0.006133481358517966] |[-0.003921784304032027] |\n",
      "|[-0.005596952721530022] |[-0.010488194995882463] |\n",
      "|[-0.003624917292485327] |[0.0014457876320053097] |\n",
      "|[-0.001413463892898565] |[0.0026350715046003317] |\n",
      "+------------------------+------------------------+\n",
      "only showing top 20 rows\n",
      "\n",
      "+------------------------+------------------------+\n",
      "|vectored_score1         |vectored_score2         |\n",
      "+------------------------+------------------------+\n",
      "|[-0.0037315825356316135]|[0.0024803681792386987] |\n",
      "|[-0.005286131109051978] |[-0.0024157341621012943]|\n",
      "|[-0.008053479741780091] |[-0.008189874598857696] |\n",
      "|[-0.002639146477226775] |[-0.009480452669236559] |\n",
      "|[-0.0024819851875893507]|[0.004022862963081784]  |\n",
      "|[-0.0027274563453172107]|[0.004420728685192451]  |\n",
      "|[-0.0030002019587149534]|[0.004862801519457221]  |\n",
      "|[-0.003787820711194941] |[0.004355456936687565]  |\n",
      "|[-0.005448800837596512] |[-0.0028256655008141902]|\n",
      "|[-0.004855060290612298] |[0.0025173923318673004] |\n",
      "|[-9.670072612309992E-4] |[0.0015673492797979459] |\n",
      "|[-0.003024021799788672] |[0.0018432323494242953] |\n",
      "|[0.0]                   |[0.0]                   |\n",
      "|[-0.0054891855975710314]|[-0.0032131767795190056]|\n",
      "|[-0.0023637955274535536]|[0.0038312982395060898] |\n",
      "|[-0.003545693185510439] |[0.005746947187986762]  |\n",
      "|[-0.00562147907951111]  |[-0.004321069534146897] |\n",
      "|[-0.007289157974902569] |[-0.009028706767732177] |\n",
      "|[-0.003286231555544348] |[0.002115319573185141]  |\n",
      "|[-0.0016957663244910606]|[0.0027485399892584294] |\n",
      "+------------------------+------------------------+\n",
      "only showing top 20 rows\n",
      "\n",
      "+------------------------+------------------------+\n",
      "|vectored_score1         |vectored_score2         |\n",
      "+------------------------+------------------------+\n",
      "|[-0.0041346723130510875]|[-1.8365840019368479E-4]|\n",
      "|[-0.004060063896791902] |[-4.608305899533281E-4] |\n",
      "|[-0.0049660665307734745]|[-9.107137065034608E-4] |\n",
      "|[0.0]                   |[0.0]                   |\n",
      "|[-0.0026479857131488493]|[0.004824286092871269]  |\n",
      "|[-0.003262813488919546] |[0.005989079767576511]  |\n",
      "|[-0.0035749415369504337]|[0.006560411456178424]  |\n",
      "|[-0.003624507813647184] |[0.004064016054085767]  |\n",
      "|[-0.005084874603735276] |[-0.0034333308789919865]|\n",
      "|[-0.005174017866012665] |[-0.0022549571416462474]|\n",
      "|[-0.002747609472480543] |[-0.002374309207926327] |\n",
      "|[-0.004579690613519056] |[-0.006462675494156412] |\n",
      "|[-4.2133025146013725E-4]|[-0.0018774055812634447]|\n",
      "|[-0.005794718708255582] |[-0.0037896926034247515]|\n",
      "|[-0.002961216920804809] |[0.005450540478021019]  |\n",
      "|[-0.0032556459071363046]|[0.0058646586766215435] |\n",
      "|[-0.004406703908090543] |[-0.005842506845918041] |\n",
      "|[-0.004586506118659258] |[9.073049415586733E-4]  |\n",
      "|[-0.004112377801116152] |[-0.0020058320296036983]|\n",
      "|[-0.002043938058052695] |[0.003753493248738222]  |\n",
      "+------------------------+------------------------+\n",
      "only showing top 20 rows\n",
      "\n"
     ]
    }
   ],
   "source": [
    "from scipy.stats import norm\n",
    "import scipy.special\n",
    "user_result_df = user_grouped_df.select(\"user\")\n",
    "company_reflect_stat = []\n",
    "\n",
    "for idx, cur_company in enumerate(companys):\n",
    "    company_merged_df = user_grouped_df.select(\"user\", top5_rate_udf(F.col(\"collect_list(type)\"), \\\n",
    "                                                                  F.col(\"collect_list(correct_rate)\"), \\\n",
    "                                                                 F.lit(cur_company)).alias(\"merged\"))\n",
    "    user_company_df = company_merged_df\n",
    "    for idx2, algo_type in enumerate(enter_top5[cur_company]):\n",
    "        user_company_df = user_company_df.withColumn(algo_type, F.col(\"merged\")[idx2])\n",
    "    user_company_df = user_company_df.drop(\"merged\")\n",
    "    id_company_df = user_company_df.withColumn(\"id\", F.monotonically_increasing_id())\n",
    "    vecAssembler = VectorAssembler(inputCols=user_company_df.drop(\"user\").columns, outputCol=\"features\")\n",
    "    vector_df = vecAssembler.transform(user_company_df.drop(\"user\")).select(\"features\")\n",
    "    temp_rdd = vector_df.rdd.map(lambda x: Vectors.fromML(x[0]))\n",
    "    mat = RowMatrix(temp_rdd)\n",
    "    svd = mat.computeSVD(2, computeU=True)\n",
    "    U = svd.U       # Left Singular Vector\n",
    "    s = svd.s       # 2 Singular value\n",
    "    V = svd.V       # Right Singular Vector\n",
    "    v = V.toArray()\n",
    "    v_t = np.transpose(v)\n",
    "    \n",
    "    company_stat_dict = {\"company\": cur_company}\n",
    "    for i in range(1, 6):\n",
    "        col = \"top{}_reflected\".format(str(i))\n",
    "        company_stat_dict[col] = \"score1\" if v_t[0][i-1] > v_t[1][i-1] else \"score2\"\n",
    "    company_reflect_stat.append(company_stat_dict)\n",
    "    truncated_score_df = U.rows.map(lambda x: {\"score1\": float(x[0]), \"score2\": float(x[1])}).toDF().withColumn(\"id\", F.monotonically_increasing_id())\n",
    "    company_scored_df = id_company_df.join(truncated_score_df, \"id\")\n",
    "    company_scored_df.persist()\n",
    "\n",
    "    assembler_1 = VectorAssembler(inputCols=[\"score1\"],outputCol=\"vectored_score1\")\n",
    "    vectored_df_1 = assembler_1.transform(company_scored_df)\n",
    "    assembler_2 = VectorAssembler(inputCols=[\"score2\"],outputCol=\"vectored_score2\")\n",
    "    vectored_df = assembler_2.transform(vectored_df_1)\n",
    "    vectored_df.select(\"vectored_score1\", \"vectored_score2\").show(truncate=False)\n",
    "\n",
    "    scaler_1 = StandardScaler(inputCol=\"vectored_score1\", outputCol=\"scaled_score1\",\n",
    "                        withStd=True, withMean=True)\n",
    "\n",
    "    # Compute summary statistics by fitting the StandardScaler\n",
    "    scale_model_1 = scaler_1.fit(vectored_df)\n",
    "\n",
    "    # Normalize each feature to have unit standard deviation.\n",
    "    scaled_1 = scale_model_1.transform(vectored_df)\n",
    "\n",
    "\n",
    "    scaler_2 = StandardScaler(inputCol=\"vectored_score2\", outputCol=\"scaled_score2\",\n",
    "                        withStd=True, withMean=True)\n",
    "\n",
    "    # Compute summary statistics by fitting the StandardScaler\n",
    "    scale_model_2 = scaler_2.fit(scaled_1)\n",
    "\n",
    "    # Normalize each feature to have unit standard deviation.\n",
    "    scaled_df = scale_model_2.transform(scaled_1)\n",
    "    extract_udf = F.udf(lambda x: x.tolist()[0], FloatType())\n",
    "    stat_df = scaled_df.withColumn(\"scaled_score1\", extract_udf(F.col(\"scaled_score1\"))) \\\n",
    "        .withColumn(\"scaled_score2\", extract_udf(F.col(\"scaled_score2\"))) \\\n",
    "        .select(\"user\", \"scaled_score1\", \"scaled_score2\")\n",
    "\n",
    "    \n",
    "    square_root_two = 2 ** (1/2)\n",
    "    inferior_cdf_udf = F.udf(lambda x, y: norm.cdf((x+y) / square_root_two).tolist(), FloatType())\n",
    "    inferior_cdf_df =stat_df.withColumn(\"inferior\", inferior_cdf_udf(F.col(\"scaled_score1\"), F.col(\"scaled_score2\"))) \\\n",
    "        .withColumn(\"superior\", F.lit(1) - F.col(\"inferior\"))\n",
    "    \n",
    "    sum_binomial_pdf_udf = F.udf(sum_binomial_pdf, FloatType())\n",
    "    probability_df = inferior_cdf_df.withColumn(\"acceptance_probability\", sum_binomial_pdf_udf(F.col(\"inferior\"), F.lit(selection_ratio[cur_company])))\n",
    "    probability_df = probability_df.withColumnRenamed(\"scaled_score1\", \"{}_score1\".format(cur_company)) \\\n",
    "    .withColumnRenamed(\"scaled_score2\", \"{}_score2\".format(cur_company)) \\\n",
    "    .withColumnRenamed(\"inferior\", \"{}_inferior\".format(cur_company)) \\\n",
    "    .withColumnRenamed(\"superior\", \"{}_superior\".format(cur_company)) \\\n",
    "    .withColumnRenamed(\"acceptance_probability\", \"{}_acceptance_probability\".format(cur_company))\n",
    "    user_result_df = user_result_df.join(probability_df, \"user\")"
   ]
  },
  {
   "cell_type": "code",
   "execution_count": 370,
   "id": "73b1eac1",
   "metadata": {},
   "outputs": [
    {
     "name": "stdout",
     "output_type": "stream",
     "text": [
      "+-------------+-----------+-----------+-------------+-------------+---------------------------+------------+------------+--------------+--------------+----------------------------+--------------+--------------+----------------+----------------+------------------------------+--------------+--------------+----------------+----------------+------------------------------+------------+------------+--------------+--------------+----------------------------+\n",
      "|         user|line_score1|line_score2|line_inferior|line_superior|line_acceptance_probability|kakao_score1|kakao_score2|kakao_inferior|kakao_superior|kakao_acceptance_probability|coupang_score1|coupang_score2|coupang_inferior|coupang_superior|coupang_acceptance_probability|samsung_score1|samsung_score2|samsung_inferior|samsung_superior|samsung_acceptance_probability|naver_score1|naver_score2|naver_inferior|naver_superior|naver_acceptance_probability|\n",
      "+-------------+-----------+-----------+-------------+-------------+---------------------------+------------+------------+--------------+--------------+----------------------------+--------------+--------------+----------------+----------------+------------------------------+--------------+--------------+----------------+----------------+------------------------------+------------+------------+--------------+--------------+----------------------------+\n",
      "|      junysuh|  1.7413404| 0.19927306|   0.91500264|  0.084997356|                  0.9999998|   1.7946976| -0.18550798|     0.8724124|    0.12758762|                  0.79799277|     1.7772057|    -0.2205548|       0.8644904|      0.13550961|                     0.9739492|     1.7999473|   -0.23482302|       0.8657903|      0.13420969|                     0.7363999|   1.7413404|  0.19927306|    0.91500264|   0.084997356|                  0.98978364|\n",
      "|  justamoment| -1.0173975| 0.43377018|   0.33991802|     0.660082|               6.418652E-17|  -0.6019219|   0.9776435|    0.60475534|    0.39524466|                 8.349918E-8|     -1.334511|   -0.12948346|      0.15028766|       0.8497124|                           0.0|    0.27298966|     0.9998241|      0.81594396|      0.18405604|                    0.23038007|  -1.0173975|  0.43377018|    0.33991802|      0.660082|                8.035745E-26|\n",
      "|    steadyjin| -1.0332198|-0.95594066|    0.0797806|    0.9202194|                        0.0|   -1.002129| -0.70157236|    0.11415981|     0.8858402|                         0.0|    -1.0593977|     1.1678998|       0.5305779|       0.4694221|                  1.8999453E-8|    -1.2721671|    -1.2417513|      0.03773407|       0.9622659|                           0.0|  -1.0332198| -0.95594066|     0.0797806|     0.9202194|                         0.0|\n",
      "|     ekdldkaa| 0.84822506| 0.88390124|   0.88967437|  0.110325634|                  0.9999764|   1.1102006|  0.44620413|     0.8644525|    0.13554752|                   0.7231225|    0.76196486|    -0.8260244|      0.48193532|       0.5180647|                  5.848093E-11|     0.9769063|    0.43066052|      0.84020483|      0.15979517|                     0.4601944|  0.84822506|  0.88390124|    0.88967437|   0.110325634|                  0.91811216|\n",
      "|      ekos555|  0.5364601| 0.19202277|   0.69676375|   0.30323625|                  0.1465654|   0.8463193|   0.1654097|     0.7628192|    0.23718083|                 0.022631666|    0.41962788|   -0.06747754|       0.5983227|       0.4016773|                  1.4211333E-5|     1.3369867|    0.13951147|        0.851767|        0.148233|                    0.58791655|   0.5364601|  0.19202277|    0.69676375|    0.30323625|                 3.179612E-4|\n",
      "|   dongun1212|  0.6402855|    1.02873|   0.88103414|  0.118965864|                   0.999915|  0.76795214|   0.7620602|    0.86034757|    0.13965243|                   0.6809528|     0.5256982|     -0.950075|      0.38205817|      0.61794186|                 1.5472589E-17|    0.56538576|    0.76340234|       0.8262873|      0.17371267|                    0.31865546|   0.6402855|     1.02873|    0.88103414|   0.118965864|                   0.8658836|\n",
      "|  dontquitnow|  1.0370244| -0.2529291|    0.7103608|   0.28963917|                 0.22454403|   0.4612898|   0.5207478|      0.756286|    0.24371397|                  0.01584146|     0.9890884|     0.3429779|      0.82688147|      0.17311853|                    0.80273896|     0.8740262|      0.513846|       0.8367958|       0.1632042|                    0.42368016|   1.0370244|  -0.2529291|     0.7103608|    0.28963917|                8.5937354E-4|\n",
      "| doris2019228|  -1.119527|-0.37554115|   0.14521636|   0.85478365|                  7.198E-42|  -0.7817707|  0.14970443|    0.32745978|     0.6725402|               4.4275246E-27|    -0.5870054|   -0.77770424|      0.16727355|       0.8327265|                      1.08E-43|    -0.6847954|    0.37987038|      0.41464412|       0.5853559|                 2.9788146E-19|   -1.119527| -0.37554115|    0.14521636|    0.85478365|                         0.0|\n",
      "|  anjunho0922|-0.42184427|-0.26437727|   0.31375593|    0.6862441|               4.085032E-19| -0.50854325|    0.522675|     0.5039864|    0.49601358|               4.2162975E-13|   -0.22848304|    -0.2228674|      0.37480527|       0.6251947|                 4.1947065E-18|   -0.15107857|     0.6455181|      0.63668865|      0.36331135|                  1.9689496E-6| -0.42184427| -0.26437727|    0.31375593|     0.6862441|               1.5741243E-28|\n",
      "|      anothel| -0.6723338|-0.48269475|    0.2070418|    0.7929582|               4.065916E-31| -0.31984973|   0.5331256|     0.5599367|     0.4400633|               5.6839106E-10|    -0.5857743|    0.31886992|      0.42515227|       0.5748477|                 1.9500994E-14|    -0.4282735|   0.113215156|       0.4118534|      0.58814657|                 1.7990841E-19|  -0.6723338| -0.48269475|     0.2070418|     0.7929582|                     6.0E-43|\n",
      "|    park32323| 0.42115164|-0.44542858|   0.49315193|    0.5068481|               1.3903382E-7|   0.4523262|  0.19428544|     0.6762448|     0.3237552|                 6.352421E-5|     0.5914731|     0.1848582|       0.7084798|      0.29152018|                     0.0254046|    0.59114325|    0.25757155|      0.72579086|      0.27420914|                  0.0024722351|  0.42115164| -0.44542858|    0.49315193|     0.5068481|                9.112807E-14|\n",
      "|     paul8576| 0.23697904|  1.3829645|    0.8739934|    0.1260066|                  0.9997827|   1.0246385|   0.5251681|     0.8634341|    0.13656592|                  0.71285206|   0.066913016|    -1.2758281|      0.19632205|       0.8036779|                 1.9734605E-38|     0.8740262|      0.513846|       0.8367958|       0.1632042|                    0.42368016|  0.23697904|   1.3829645|     0.8739934|     0.1260066|                   0.8115554|\n",
      "|   paulmoguri| -1.5200533|-0.09402275|   0.12686753|   0.87313247|                        0.0|  -1.3957986| -0.14590625|    0.13782355|     0.8621764|                         0.0|    -2.0739763|     1.1435786|      0.25530425|       0.7446958|                 5.9096145E-30|    -1.4027048|   -0.74097985|       0.0647832|       0.9352168|                           0.0|  -1.5200533| -0.09402275|    0.12686753|    0.87313247|                         0.0|\n",
      "|chunyacha9923|0.069214925| -0.4379794|   0.39714038|    0.6028596|               8.229163E-13| -0.25607082|  0.65846264|     0.6119994|     0.3880006|                1.7591627E-7|  -0.099029966|     0.6522098|       0.6521595|       0.3478405|                   9.090847E-4|     0.6888419|    0.66357976|       0.8305413|      0.16945869|                    0.35956144| 0.069214925|  -0.4379794|    0.39714038|     0.6028596|               1.1739344E-20|\n",
      "|     cisong20| -0.4034764| -1.7654755|   0.06255413|    0.9374459|                        0.0|  -1.3259041|   -3.122425|   8.291754E-4|    0.99917084|                         0.0|   -0.20290011|     1.9272902|       0.8886401|     0.111359894|                     0.9969309|    -1.4835691|     -2.558857|    0.0021287359|       0.9978713|                           0.0|  -0.4034764|  -1.7654755|    0.06255413|     0.9374459|                         0.0|\n",
      "|       citboj|-0.17310488|  1.6732792|   0.85560584|   0.14439416|                  0.9982703|  0.40859133|    1.093709|    0.85594726|    0.14405274|                   0.6338461|   -0.39907002|    -1.5259218|      0.08672923|       0.9132708|                           0.0|    0.13328937|     1.1127812|      0.81086946|      0.18913054|                    0.19341525| -0.17310488|   1.6732792|    0.85560584|    0.14439416|                   0.6301289|\n",
      "|      alska95|  -1.814255| -1.7064878| 0.0063954066|    0.9936046|                        0.0|  -1.1279156|  0.27269295|    0.27267796|    0.72732204|               2.4494169E-33|    -1.5036694|     1.2575471|      0.43091908|      0.56908095|                 4.7078505E-14|    -1.1899441|   -0.33409142|      0.14059368|      0.85940635|                           0.0|   -1.814255|  -1.7064878|  0.0063954066|     0.9936046|                         0.0|\n",
      "|    alss00105| 0.34708413| 0.14515309|   0.63610405|   0.36389595|                0.010333045|4.3252694E-5|  -0.6911071|    0.31254265|     0.6874573|               1.1622833E-28|   0.019315606|      0.531372|        0.651508|      0.34849203|                  8.6938805E-4|  -0.056878034|   -0.94711155|      0.23887444|      0.76112556|                 6.2273793E-38|  0.34708413|  0.14515309|    0.63610405|    0.36389595|                1.8636132E-6|\n",
      "|  anstjdrnjs3| -0.5943531|-0.51109445|   0.21720444|   0.78279555|             1.07757466E-29|   -0.851624|  -1.3695686|    0.05813543|    0.94186455|                         0.0|    -0.6219428|    0.76307315|      0.53974617|      0.46025383|                  5.1123966E-8|    -1.3091711|    -1.5394862|     0.021988768|      0.97801125|                           0.0|  -0.5943531| -0.51109445|    0.21720444|    0.78279555|                  2.9088E-41|\n",
      "|    aoyujeong|  1.4001517| 0.44366986|    0.9038455|   0.09615451|                 0.99999803|   1.3179944|   0.2544344|     0.8669041|    0.13309592|                   0.7472566|     1.3894881|    -0.4319481|       0.7508234|      0.24917662|                    0.15320623|      1.226758|    0.22863875|       0.8482886|       0.1517114|                     0.5492911|   1.4001517|  0.44366986|     0.9038455|    0.09615451|                  0.97073454|\n",
      "+-------------+-----------+-----------+-------------+-------------+---------------------------+------------+------------+--------------+--------------+----------------------------+--------------+--------------+----------------+----------------+------------------------------+--------------+--------------+----------------+----------------+------------------------------+------------+------------+--------------+--------------+----------------------------+\n",
      "only showing top 20 rows\n",
      "\n"
     ]
    }
   ],
   "source": [
    "user_result_df.show()"
   ]
  },
  {
   "cell_type": "code",
   "execution_count": 402,
   "id": "b5dab8eb",
   "metadata": {},
   "outputs": [],
   "source": [
    "user_result_df.write.format(\"csv\").mode('overwrite') \\\n",
    "    .option(\"encoding\", \"UTF-8\").save(\"static/predict_acceptance/user_with_probabilities\")"
   ]
  },
  {
   "cell_type": "code",
   "execution_count": 403,
   "id": "d38451cd",
   "metadata": {},
   "outputs": [
    {
     "name": "stdout",
     "output_type": "stream",
     "text": [
      "+-------+------+-------------------+-------------------+-------------------+--------------+--------------+--------------+--------------+--------------+--------------+\n",
      "|company|  top1|               top2|               top3|               top4|          top5|top1_reflected|top2_reflected|top3_reflected|top4_reflected|top5_reflected|\n",
      "+-------+------+-------------------+-------------------+-------------------+--------------+--------------+--------------+--------------+--------------+--------------+\n",
      "|coupang|문자열|               구현|          자료 구조|               수학|   그래프 탐색|        score2|        score2|        score2|        score2|        score2|\n",
      "|  naver|  구현|          자료 구조|             문자열|브루트포스 알고리즘|          수학|        score2|        score1|        score1|        score1|        score2|\n",
      "|  kakao|  구현|             문자열|브루트포스 알고리즘|        그래프 이론|너비 우선 탐색|        score2|        score2|        score2|        score1|        score1|\n",
      "|samsung|  구현|         시뮬레이션|브루트포스 알고리즘|        그래프 이론|   그래프 탐색|        score2|        score1|        score2|        score1|        score1|\n",
      "|   line|  구현|브루트포스 알고리즘|             문자열|          자료 구조|          수학|        score2|        score1|        score1|        score1|        score2|\n",
      "+-------+------+-------------------+-------------------+-------------------+--------------+--------------+--------------+--------------+--------------+--------------+\n",
      "\n"
     ]
    }
   ],
   "source": [
    "company_reflect_df = sqlContext.createDataFrame(company_reflect_stat)\n",
    "company_stat_df = company_stat_df.join(company_reflect_df, \"company\")\n",
    "company_stat_df.show()"
   ]
  },
  {
   "cell_type": "code",
   "execution_count": 404,
   "id": "ff83968f",
   "metadata": {},
   "outputs": [],
   "source": [
    "company_stat_df.write.format(\"csv\").mode('overwrite') \\\n",
    "    .option(\"encoding\", \"UTF-8\").save(\"static/predict_acceptance/company_top5_score_criteria\")"
   ]
  },
  {
   "cell_type": "code",
   "execution_count": 405,
   "id": "ce77af8d",
   "metadata": {},
   "outputs": [],
   "source": [
    "sc.stop()"
   ]
  }
 ],
 "metadata": {
  "kernelspec": {
   "display_name": "Python 3",
   "language": "python",
   "name": "python3"
  },
  "language_info": {
   "codemirror_mode": {
    "name": "ipython",
    "version": 3
   },
   "file_extension": ".py",
   "mimetype": "text/x-python",
   "name": "python",
   "nbconvert_exporter": "python",
   "pygments_lexer": "ipython3",
   "version": "3.6.9"
  }
 },
 "nbformat": 4,
 "nbformat_minor": 5
}
