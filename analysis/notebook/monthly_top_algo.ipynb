{
 "cells": [
  {
   "cell_type": "markdown",
   "id": "5395875b",
   "metadata": {},
   "source": [
    "# Monthly top algorithm\n",
    "\n",
    "#### Key feature\n",
    "- Generates algorithm statistics that have been solved per a month."
   ]
  },
  {
   "cell_type": "markdown",
   "id": "7fea41be",
   "metadata": {},
   "source": [
    "### Configurations"
   ]
  },
  {
   "cell_type": "code",
   "execution_count": 1,
   "id": "41332ada",
   "metadata": {},
   "outputs": [],
   "source": [
    "import logging\n",
    "\n",
    "logging.basicConfig(format='%(asctime)s %(levelname)s %(message)s',\n",
    "\n",
    "    datefmt='%Y-%m-%d,%H:%M:%S:%f', level=logging.INFO)"
   ]
  },
  {
   "cell_type": "code",
   "execution_count": 2,
   "id": "36cafeea",
   "metadata": {},
   "outputs": [
    {
     "name": "stderr",
     "output_type": "stream",
     "text": [
      "2022-06-09,21:53:06:%f INFO Application Start!!\n"
     ]
    }
   ],
   "source": [
    "logging.info('Application Start!!')"
   ]
  },
  {
   "cell_type": "markdown",
   "id": "9450070c",
   "metadata": {},
   "source": [
    "### Get trials"
   ]
  },
  {
   "cell_type": "code",
   "execution_count": 4,
   "id": "4d4ff8dd",
   "metadata": {},
   "outputs": [],
   "source": [
    "import findspark\n",
    "findspark.init()"
   ]
  },
  {
   "cell_type": "code",
   "execution_count": 14,
   "id": "84a4c613",
   "metadata": {
    "scrolled": true
   },
   "outputs": [],
   "source": [
    "from pyspark import SparkConf, SparkContext, SQLContext\n",
    "\n",
    "conf = SparkConf().setMaster(\"yarn\").setAppName(\"bigdata-group1-montly\")\n",
    "sc = SparkContext.getOrCreate(conf = conf)\n",
    "sqlContext = SQLContext(sc)\n"
   ]
  },
  {
   "cell_type": "code",
   "execution_count": 6,
   "id": "93124faa",
   "metadata": {},
   "outputs": [],
   "source": [
    "trial_df = sqlContext.read.format(\"csv\").option(\"encoding\", \"UTF-8\").option(\"header\",\"true\").load(\"data/trials.csv\")"
   ]
  },
  {
   "cell_type": "code",
   "execution_count": 7,
   "id": "cd5d15fd",
   "metadata": {},
   "outputs": [],
   "source": [
    "trial_df = trial_df.na.drop(subset=[\"type\"])"
   ]
  },
  {
   "cell_type": "markdown",
   "id": "5da16a04",
   "metadata": {},
   "source": [
    "#### Feature engineering"
   ]
  },
  {
   "cell_type": "code",
   "execution_count": 9,
   "id": "109c1326",
   "metadata": {},
   "outputs": [],
   "source": [
    "from pyspark.sql import functions as F\n",
    "from pyspark.sql.types import ArrayType, StringType\n",
    "trial_split_df = trial_df.withColumn(\"type\", F.split(F.col(\"type\"), '/'))\n",
    "\n",
    "def cut_tail(array):\n",
    "    return array[:-1]\n",
    "cut_tail_udf = F.udf(cut_tail, ArrayType(StringType()))\n",
    "trial_typelist_df = trial_split_df.withColumn(\"type\", cut_tail_udf(\"type\"))"
   ]
  },
  {
   "cell_type": "code",
   "execution_count": 10,
   "id": "4cb5f362",
   "metadata": {},
   "outputs": [
    {
     "data": {
      "text/plain": [
       "DataFrame[month: string, Type: string, count: bigint]"
      ]
     },
     "execution_count": 10,
     "metadata": {},
     "output_type": "execute_result"
    }
   ],
   "source": [
    "trial_per_type_df = trial_typelist_df.withColumn(\"month\", F.split(F.col(\"date\"), \"-\")[1]) \\\n",
    "    .select(F.explode(\"type\").alias(\"Type\"), \"user\", \"questionId\", \"month\") \\\n",
    "    .groupBy(\"month\", \"Type\").count()\n",
    "trial_per_type_df.persist()"
   ]
  },
  {
   "cell_type": "code",
   "execution_count": 12,
   "id": "ce53c374",
   "metadata": {},
   "outputs": [],
   "source": [
    "\n",
    "for month in range(1, 6):\n",
    "    month_top_df = trial_per_type_df.filter(F.col(\"month\").like(\"%{}\".format(str(month)))) \\\n",
    "    .sort(F.col(\"count\").desc())\n",
    "    month_top_df.write.format(\"csv\").mode('overwrite') \\\n",
    "    .option(\"encoding\", \"UTF-8\").save(\"static/monthly_count/{}\".format(str(month)))"
   ]
  }
 ],
 "metadata": {
  "kernelspec": {
   "display_name": "Python 3",
   "language": "python",
   "name": "python3"
  },
  "language_info": {
   "codemirror_mode": {
    "name": "ipython",
    "version": 3
   },
   "file_extension": ".py",
   "mimetype": "text/x-python",
   "name": "python",
   "nbconvert_exporter": "python",
   "pygments_lexer": "ipython3",
   "version": "3.6.9"
  }
 },
 "nbformat": 4,
 "nbformat_minor": 5
}
