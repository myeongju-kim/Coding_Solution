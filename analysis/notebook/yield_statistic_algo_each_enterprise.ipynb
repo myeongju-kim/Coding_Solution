{
 "cells": [
  {
   "cell_type": "markdown",
   "id": "5395875b",
   "metadata": {},
   "source": [
    "# Yield statistics for algorithms each enterprise\n"
   ]
  },
  {
   "cell_type": "markdown",
   "id": "7fea41be",
   "metadata": {},
   "source": [
    "### Configurations"
   ]
  },
  {
   "cell_type": "code",
   "execution_count": 43,
   "id": "41332ada",
   "metadata": {},
   "outputs": [],
   "source": [
    "import logging\n",
    "\n",
    "logging.basicConfig(format='%(asctime)s %(levelname)s %(message)s',\n",
    "\n",
    "    datefmt='%Y-%m-%d,%H:%M:%S:%f', level=logging.INFO)"
   ]
  },
  {
   "cell_type": "code",
   "execution_count": 44,
   "id": "36cafeea",
   "metadata": {},
   "outputs": [
    {
     "name": "stderr",
     "output_type": "stream",
     "text": [
      "2022-06-11,03:34:07:%f INFO Application Start!!\n"
     ]
    }
   ],
   "source": [
    "logging.info('Application Start!!')"
   ]
  },
  {
   "cell_type": "markdown",
   "id": "9450070c",
   "metadata": {},
   "source": [
    "### Get company"
   ]
  },
  {
   "cell_type": "code",
   "execution_count": 45,
   "id": "4d4ff8dd",
   "metadata": {},
   "outputs": [],
   "source": [
    "import findspark\n",
    "findspark.init()"
   ]
  },
  {
   "cell_type": "code",
   "execution_count": 46,
   "id": "84a4c613",
   "metadata": {
    "scrolled": true
   },
   "outputs": [],
   "source": [
    "from pyspark import SparkConf, SparkContext, SQLContext\n",
    "\n",
    "\n",
    "conf = SparkConf().setMaster(\"yarn\").setAppName(\"bigdata-group1-top-algo\")\n",
    "sc = SparkContext.getOrCreate(conf = conf)\n",
    "sqlContext = SQLContext(sc)\n"
   ]
  },
  {
   "cell_type": "code",
   "execution_count": 47,
   "id": "93124faa",
   "metadata": {},
   "outputs": [],
   "source": [
    "company_df = sqlContext.read.option(\"multiline\", \"true\").json(\"data/companys.json\")"
   ]
  },
  {
   "cell_type": "code",
   "execution_count": 48,
   "id": "a08aaafd",
   "metadata": {},
   "outputs": [
    {
     "name": "stdout",
     "output_type": "stream",
     "text": [
      "root\n",
      " |-- company: string (nullable = true)\n",
      " |-- difficulty: string (nullable = true)\n",
      " |-- title: string (nullable = true)\n",
      " |-- type: array (nullable = true)\n",
      " |    |-- element: string (containsNull = true)\n",
      "\n"
     ]
    }
   ],
   "source": [
    "company_df.printSchema()"
   ]
  },
  {
   "cell_type": "code",
   "execution_count": 20,
   "id": "0c925366",
   "metadata": {},
   "outputs": [
    {
     "name": "stdout",
     "output_type": "stream",
     "text": [
      "+------------+-----+\n",
      "|  difficulty|count|\n",
      "+------------+-----+\n",
      "|다이아몬드 5|    3|\n",
      "|  플래티넘 4|    5|\n",
      "|  플래티넘 1|    4|\n",
      "|      실버 4|   16|\n",
      "|  플래티넘 3|    5|\n",
      "|      실버 2|   18|\n",
      "|      실버 1|   16|\n",
      "|    브론즈 2|    7|\n",
      "|      골드 2|   28|\n",
      "|  플래티넘 2|    3|\n",
      "|    브론즈 1|    2|\n",
      "|      골드 3|   28|\n",
      "|      골드 1|   14|\n",
      "|      골드 5|   52|\n",
      "|다이아몬드 3|    1|\n",
      "|      골드 4|   46|\n",
      "|      실버 3|   12|\n",
      "|      실버 5|   12|\n",
      "|  플래티넘 5|   16|\n",
      "+------------+-----+\n",
      "\n"
     ]
    }
   ],
   "source": [
    "company_df.groupBy('difficulty').count().show()"
   ]
  },
  {
   "cell_type": "code",
   "execution_count": 49,
   "id": "081012c1",
   "metadata": {},
   "outputs": [],
   "source": [
    "from pyspark.sql import functions as F\n",
    "score_map = {\"브론즈 5\": 1, \"브론즈 4\": 2, \"브론즈 3\": 3, \"브론즈 2\": 4, \"브론즈 1\": 5,\n",
    "            \"실버 5\": 6, \"실버 4\": 7, \"실버 3\": 8, \"실버 2\": 9, \"실버 1\": 10,\n",
    "            \"골드 5\": 11, \"골드 4\": 12, \"골드 3\": 13, \"골드 2\": 14, \"골드 1\": 15,\n",
    "            \"플래티넘 5\": 16, \"플래티넘 4\": 17, \"플래티넘 3\": 18, \"플래티넘 2\": 19, \"플래티넘 1\": 20,\n",
    "             \"다이아몬드 5\": 21, \"다이아몬드 4\": 22, \"다이아몬드 3\": 23, \"다이아몬드 2\": 24, \"다이아몬드 1\": 25,\n",
    "            }"
   ]
  },
  {
   "cell_type": "code",
   "execution_count": 50,
   "id": "0ab95e4e",
   "metadata": {},
   "outputs": [],
   "source": [
    "score_udf = F.udf(lambda x: score_map[x])\n",
    "score_df = company_df.withColumn(\"difficulty_score\", score_udf(F.col(\"difficulty\")))"
   ]
  },
  {
   "cell_type": "code",
   "execution_count": 51,
   "id": "9e510031",
   "metadata": {},
   "outputs": [],
   "source": [
    "type_df = score_df.withColumn(\"type\", F.explode(\"type\"))"
   ]
  },
  {
   "cell_type": "code",
   "execution_count": 32,
   "id": "f921d970",
   "metadata": {},
   "outputs": [
    {
     "data": {
      "text/plain": [
       "845"
      ]
     },
     "execution_count": 32,
     "metadata": {},
     "output_type": "execute_result"
    }
   ],
   "source": [
    "score_df.na.drop(subset=[\"type\"]).withColumn(\"type\", F.explode(\"type\")).count()"
   ]
  },
  {
   "cell_type": "code",
   "execution_count": 52,
   "id": "4633560e",
   "metadata": {},
   "outputs": [
    {
     "data": {
      "text/plain": [
       "DataFrame[company: string, type: string, count: bigint, avg_of_difficulty: double]"
      ]
     },
     "execution_count": 52,
     "metadata": {},
     "output_type": "execute_result"
    }
   ],
   "source": [
    "company_type_g_df = type_df.groupBy(\"company\", \"type\") \\\n",
    "  .agg(F.count('type').alias(\"count\"), F.avg(\"difficulty_score\").alias(\"avg_of_difficulty\")) \\\n",
    "  .sort(\"company\", F.col(\"count\").desc())\n",
    "company_type_g_df.persist()"
   ]
  },
  {
   "cell_type": "code",
   "execution_count": 53,
   "id": "057b3596",
   "metadata": {},
   "outputs": [
    {
     "name": "stdout",
     "output_type": "stream",
     "text": [
      "+-------+-----------------------+-----+------------------+\n",
      "|company|                   type|count| avg_of_difficulty|\n",
      "+-------+-----------------------+-----+------------------+\n",
      "|coupang|                 문자열|   22|10.363636363636363|\n",
      "|coupang|                   구현|   20|              10.7|\n",
      "|coupang|              자료 구조|   12|             12.25|\n",
      "|coupang|                   수학|   11|              13.0|\n",
      "|coupang|            그래프 탐색|   10|              15.7|\n",
      "|coupang|            그래프 이론|   10|              15.7|\n",
      "|coupang|         깊이 우선 탐색|    8|             15.25|\n",
      "|coupang|해시를 사용한 집합과 맵|    7| 9.428571428571429|\n",
      "|coupang|                   파싱|    7|12.714285714285714|\n",
      "|coupang|    다이나믹 프로그래밍|    7|12.857142857142858|\n",
      "|coupang|    브루트포스 알고리즘|    7|11.571428571428571|\n",
      "|coupang|         너비 우선 탐색|    6|              15.0|\n",
      "|coupang|        그리디 알고리즘|    4|             10.25|\n",
      "|coupang|                   트리|    4|             16.75|\n",
      "|coupang|              이분 탐색|    3|              16.0|\n",
      "|coupang|         많은 조건 분기|    2|              16.5|\n",
      "|coupang|트리를 사용한 집합과 맵|    2|              14.0|\n",
      "|coupang|             시뮬레이션|    2|               8.0|\n",
      "|coupang|              분리 집합|    2|              16.0|\n",
      "|coupang|          오프라인 쿼리|    1|              20.0|\n",
      "+-------+-----------------------+-----+------------------+\n",
      "only showing top 20 rows\n",
      "\n"
     ]
    }
   ],
   "source": [
    "company_type_g_df.show()"
   ]
  },
  {
   "cell_type": "code",
   "execution_count": 41,
   "id": "9b555be9",
   "metadata": {},
   "outputs": [],
   "source": [
    "company_type_g_df.write.format(\"csv\").mode('overwrite') \\\n",
    "    .option(\"encoding\", \"UTF-8\").save(\"static/stat_enterprise/stat_each_enterprise\")"
   ]
  },
  {
   "cell_type": "code",
   "execution_count": 42,
   "id": "ce77af8d",
   "metadata": {},
   "outputs": [],
   "source": [
    "sc.stop()"
   ]
  }
 ],
 "metadata": {
  "kernelspec": {
   "display_name": "Python 3",
   "language": "python",
   "name": "python3"
  },
  "language_info": {
   "codemirror_mode": {
    "name": "ipython",
    "version": 3
   },
   "file_extension": ".py",
   "mimetype": "text/x-python",
   "name": "python",
   "nbconvert_exporter": "python",
   "pygments_lexer": "ipython3",
   "version": "3.6.9"
  }
 },
 "nbformat": 4,
 "nbformat_minor": 5
}
