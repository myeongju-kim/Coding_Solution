{
 "cells": [
  {
   "cell_type": "markdown",
   "id": "5395875b",
   "metadata": {},
   "source": [
    "# Average problem\n"
   ]
  },
  {
   "cell_type": "markdown",
   "id": "7fea41be",
   "metadata": {},
   "source": [
    "### Configurations"
   ]
  },
  {
   "cell_type": "code",
   "execution_count": 1,
   "id": "41332ada",
   "metadata": {},
   "outputs": [],
   "source": [
    "import logging\n",
    "\n",
    "logging.basicConfig(format='%(asctime)s %(levelname)s %(message)s',\n",
    "\n",
    "    datefmt='%Y-%m-%d,%H:%M:%S:%f', level=logging.INFO)"
   ]
  },
  {
   "cell_type": "code",
   "execution_count": 2,
   "id": "36cafeea",
   "metadata": {},
   "outputs": [
    {
     "name": "stderr",
     "output_type": "stream",
     "text": [
      "2022-06-11,07:22:37:%f INFO Application Start!!\n"
     ]
    }
   ],
   "source": [
    "logging.info('Application Start!!')"
   ]
  },
  {
   "cell_type": "markdown",
   "id": "9450070c",
   "metadata": {},
   "source": [
    "### Get problems"
   ]
  },
  {
   "cell_type": "code",
   "execution_count": 5,
   "id": "4d4ff8dd",
   "metadata": {},
   "outputs": [],
   "source": [
    "import findspark\n",
    "findspark.init()"
   ]
  },
  {
   "cell_type": "code",
   "execution_count": 6,
   "id": "84a4c613",
   "metadata": {
    "scrolled": true
   },
   "outputs": [],
   "source": [
    "from pyspark import SparkConf, SparkContext, SQLContext\n",
    "\n",
    "\n",
    "conf = SparkConf().setMaster(\"yarn\").setAppName(\"bigdata-group1-avg-problems\")\n",
    "sc = SparkContext.getOrCreate(conf = conf)\n",
    "sqlContext = SQLContext(sc)\n"
   ]
  },
  {
   "cell_type": "code",
   "execution_count": 39,
   "id": "93124faa",
   "metadata": {},
   "outputs": [],
   "source": [
    "problem_df = sqlContext.read.option(\"multiline\", \"true\").json(\"data/newformat_problem.json\")"
   ]
  },
  {
   "cell_type": "code",
   "execution_count": 10,
   "id": "a08aaafd",
   "metadata": {},
   "outputs": [
    {
     "name": "stdout",
     "output_type": "stream",
     "text": [
      "root\n",
      " |-- difficulty: string (nullable = true)\n",
      " |-- questionId: long (nullable = true)\n",
      " |-- title: string (nullable = true)\n",
      " |-- type: array (nullable = true)\n",
      " |    |-- element: string (containsNull = true)\n",
      "\n"
     ]
    }
   ],
   "source": [
    "problem_df.printSchema()"
   ]
  },
  {
   "cell_type": "code",
   "execution_count": 40,
   "id": "0c925366",
   "metadata": {},
   "outputs": [],
   "source": [
    "from pyspark.sql import functions as F\n",
    "explode_df = problem_df.withColumn(\"type\", F.explode(\"type\"))\n",
    "typed_df = explode_df.filter(F.col(\"type\") != \"UNRANK\")"
   ]
  },
  {
   "cell_type": "code",
   "execution_count": 17,
   "id": "f5ebd494",
   "metadata": {},
   "outputs": [
    {
     "data": {
      "text/plain": [
       "40788"
      ]
     },
     "execution_count": 17,
     "metadata": {},
     "output_type": "execute_result"
    }
   ],
   "source": [
    "typed_df.count()"
   ]
  },
  {
   "cell_type": "code",
   "execution_count": 18,
   "id": "07359240",
   "metadata": {},
   "outputs": [
    {
     "data": {
      "text/plain": [
       "40788"
      ]
     },
     "execution_count": 18,
     "metadata": {},
     "output_type": "execute_result"
    }
   ],
   "source": [
    "typed_df.na.drop(\"all\").count()"
   ]
  },
  {
   "cell_type": "code",
   "execution_count": 44,
   "id": "081012c1",
   "metadata": {},
   "outputs": [],
   "source": [
    "score_map = {\"브론즈 5\": 1, \"브론즈 4\": 2, \"브론즈 3\": 3, \"브론즈 2\": 4, \"브론즈 1\": 5,\n",
    "            \"실버 5\": 6, \"실버 4\": 7, \"실버 3\": 8, \"실버 2\": 9, \"실버 1\": 10,\n",
    "            \"골드 5\": 11, \"골드 4\": 12, \"골드 3\": 13, \"골드 2\": 14, \"골드 1\": 15,\n",
    "            \"플래티넘 5\": 16, \"플래티넘 4\": 17, \"플래티넘 3\": 18, \"플래티넘 2\": 19, \"플래티넘 1\": 20,\n",
    "             \"다이아몬드 5\": 21, \"다이아몬드 4\": 22, \"다이아몬드 3\": 23, \"다이아몬드 2\": 24, \"다이아몬드 1\": 25,\n",
    "             \"루비 5\": 26, \"루비 4\": 27, \"루비 3\": 28, \"루비 2\": 29, \"루비 1\": 30,\n",
    "             \"UNRANK\": 5\n",
    "            }"
   ]
  },
  {
   "cell_type": "code",
   "execution_count": 45,
   "id": "0ab95e4e",
   "metadata": {},
   "outputs": [],
   "source": [
    "score_udf = F.udf(lambda x: score_map[x])\n",
    "score_df = typed_df.withColumn(\"difficulty_score\", score_udf(F.col(\"difficulty\")))"
   ]
  },
  {
   "cell_type": "code",
   "execution_count": 46,
   "id": "9e510031",
   "metadata": {},
   "outputs": [
    {
     "name": "stdout",
     "output_type": "stream",
     "text": [
      "+----------+----------+-----+----+----------------+\n",
      "|difficulty|questionId|title|type|difficulty_score|\n",
      "+----------+----------+-----+----+----------------+\n",
      "+----------+----------+-----+----+----------------+\n",
      "\n"
     ]
    }
   ],
   "source": [
    "score_df.filter(F.col(\"type\") == \"UNRANK\").show()"
   ]
  },
  {
   "cell_type": "code",
   "execution_count": 49,
   "id": "f921d970",
   "metadata": {},
   "outputs": [
    {
     "name": "stdout",
     "output_type": "stream",
     "text": [
      "+-------------------------+-----+------------------+\n",
      "|                     type|count| avg_of_difficulty|\n",
      "+-------------------------+-----+------------------+\n",
      "|               히르쉬버그|    4|             25.25|\n",
      "|        번사이드 보조정리|    8|            20.875|\n",
      "|              aliens 트릭|   12|24.583333333333332|\n",
      "|함수 개형을 이용한 최적화|   16|           22.9375|\n",
      "|                뤼카 정리|    8|             19.25|\n",
      "|                위상 정렬|  107|16.869158878504674|\n",
      "|       0-1 너비 우선 탐색|   24|14.791666666666666|\n",
      "|              춤추는 링크|    3|              24.0|\n",
      "|   최대 유량 최소 컷 정리|   49|21.285714285714285|\n",
      "|               다익스트라|  371|16.412398921832885|\n",
      "|                     mo's|   28|20.714285714285715|\n",
      "|                라빈–카프|   18| 19.72222222222222|\n",
      "|          피타고라스 정리|   43| 5.465116279069767|\n",
      "|                      kmp|   66| 18.71212121212121|\n",
      "|               큰 수 연산|  173|11.421965317919074|\n",
      "|           많은 조건 분기|  415|14.910843373493975|\n",
      "|            세그먼트 트리|  828|20.785024154589372|\n",
      "|           트리 동형 사상|   14|21.071428571428573|\n",
      "|  단조 큐를 이용한 최적화|    6|24.833333333333332|\n",
      "|            일반적인 매칭|    7|              26.0|\n",
      "+-------------------------+-----+------------------+\n",
      "only showing top 20 rows\n",
      "\n"
     ]
    }
   ],
   "source": [
    "avg_score_df = score_df.groupBy(\"type\").agg(F.count(\"*\").alias(\"count\"), F.avg(\"difficulty_score\").alias(\"avg_of_difficulty\"))\n",
    "avg_score_df.show()"
   ]
  },
  {
   "cell_type": "code",
   "execution_count": 51,
   "id": "9b555be9",
   "metadata": {},
   "outputs": [],
   "source": [
    "avg_score_df.write.format(\"csv\").mode('overwrite') \\\n",
    "    .option(\"encoding\", \"UTF-8\").save(\"static/problem/problem_avg_difficulty\")"
   ]
  },
  {
   "cell_type": "code",
   "execution_count": 52,
   "id": "ce77af8d",
   "metadata": {},
   "outputs": [],
   "source": [
    "sc.stop()"
   ]
  }
 ],
 "metadata": {
  "kernelspec": {
   "display_name": "Python 3",
   "language": "python",
   "name": "python3"
  },
  "language_info": {
   "codemirror_mode": {
    "name": "ipython",
    "version": 3
   },
   "file_extension": ".py",
   "mimetype": "text/x-python",
   "name": "python",
   "nbconvert_exporter": "python",
   "pygments_lexer": "ipython3",
   "version": "3.6.9"
  }
 },
 "nbformat": 4,
 "nbformat_minor": 5
}
